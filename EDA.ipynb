{
 "cells": [
  {
   "cell_type": "code",
   "execution_count": 1,
   "id": "39058dee",
   "metadata": {},
   "outputs": [
    {
     "data": {
      "text/plain": [
       "4"
      ]
     },
     "execution_count": 1,
     "metadata": {},
     "output_type": "execute_result"
    }
   ],
   "source": [
    "2+2"
   ]
  },
  {
   "cell_type": "code",
   "execution_count": 5,
   "id": "6acb333e",
   "metadata": {},
   "outputs": [],
   "source": [
    "import pandas as pd"
   ]
  },
  {
   "cell_type": "code",
   "execution_count": 191,
   "id": "4f93fe05",
   "metadata": {},
   "outputs": [],
   "source": [
    "from src.cloud_storage.redshift_connection import redshift_connection\n",
    "\n",
    "connection = redshift_connection()"
   ]
  },
  {
   "cell_type": "code",
   "execution_count": 192,
   "id": "43f07f30",
   "metadata": {},
   "outputs": [
    {
     "name": "stderr",
     "output_type": "stream",
     "text": [
      "2025-08-01 18:08:12,905 - side - DEBUG - Attempting to read SQL file: sql_files/item_query.sql\n",
      "2025-08-01 18:08:12,908 - side - INFO - Successfully read SQL file: sql_files/item_query.sql\n",
      "2025-08-01 18:08:15,869 - read_shift - INFO - Connected to Redshift successfully.\n",
      "/Users/bhaveshraj/recommendation_system/Two-Tower/src/cloud_storage/redshift_connection.py:82: UserWarning: pandas only supports SQLAlchemy connectable (engine/connection) or database string URI or sqlite3 DBAPI2 connection. Other DBAPI2 objects are not tested. Please consider using SQLAlchemy.\n",
      "  df = pd.read_sql_query(query, conn)\n",
      "2025-08-01 18:09:08,092 - read_shift - INFO - Query executed successfully, retrieved 12191 rows.\n",
      "2025-08-01 18:09:08,095 - read_shift - INFO - Connection closed.\n"
     ]
    }
   ],
   "source": [
    "item_query = 'sql_files/item_query.sql'\n",
    "book_df = connection.redshift_query_fetching_as_df(item_query)"
   ]
  },
  {
   "cell_type": "code",
   "execution_count": 193,
   "id": "85eeef86",
   "metadata": {},
   "outputs": [],
   "source": [
    "book_df.to_csv('book_data.csv')"
   ]
  },
  {
   "cell_type": "code",
   "execution_count": 6,
   "id": "eda241b1",
   "metadata": {},
   "outputs": [],
   "source": [
    "book_df = pd.read_csv('book_data.csv')"
   ]
  },
  {
   "cell_type": "code",
   "execution_count": 7,
   "id": "08ed5ed1",
   "metadata": {},
   "outputs": [
    {
     "data": {
      "text/html": [
       "<div>\n",
       "<style scoped>\n",
       "    .dataframe tbody tr th:only-of-type {\n",
       "        vertical-align: middle;\n",
       "    }\n",
       "\n",
       "    .dataframe tbody tr th {\n",
       "        vertical-align: top;\n",
       "    }\n",
       "\n",
       "    .dataframe thead th {\n",
       "        text-align: right;\n",
       "    }\n",
       "</style>\n",
       "<table border=\"1\" class=\"dataframe\">\n",
       "  <thead>\n",
       "    <tr style=\"text-align: right;\">\n",
       "      <th></th>\n",
       "      <th>Unnamed: 0</th>\n",
       "      <th>id</th>\n",
       "      <th>book_isbn</th>\n",
       "      <th>book_title</th>\n",
       "      <th>authors</th>\n",
       "      <th>book_series</th>\n",
       "      <th>publication_date</th>\n",
       "      <th>rights</th>\n",
       "      <th>illustrators</th>\n",
       "      <th>interactive</th>\n",
       "      <th>...</th>\n",
       "      <th>clicks_students</th>\n",
       "      <th>quality_clicks</th>\n",
       "      <th>quality_clicks_students</th>\n",
       "      <th>students_completed_book</th>\n",
       "      <th>students_completed_75_per_book</th>\n",
       "      <th>per_75_completed_unique_books</th>\n",
       "      <th>completion_rate</th>\n",
       "      <th>time_spent</th>\n",
       "      <th>total_pages</th>\n",
       "      <th>read_pages</th>\n",
       "    </tr>\n",
       "  </thead>\n",
       "  <tbody>\n",
       "    <tr>\n",
       "      <th>0</th>\n",
       "      <td>0</td>\n",
       "      <td>26</td>\n",
       "      <td>9781427118462</td>\n",
       "      <td>Ancient Egypt Inside Out</td>\n",
       "      <td>Ellen,Rodger</td>\n",
       "      <td>Ancient Worlds Inside Out</td>\n",
       "      <td>2017-02-28</td>\n",
       "      <td>World</td>\n",
       "      <td>NaN</td>\n",
       "      <td>False</td>\n",
       "      <td>...</td>\n",
       "      <td>139.0</td>\n",
       "      <td>150.0</td>\n",
       "      <td>122.0</td>\n",
       "      <td>59.0</td>\n",
       "      <td>112.0</td>\n",
       "      <td>88.0</td>\n",
       "      <td>46.83</td>\n",
       "      <td>110959.0</td>\n",
       "      <td>6572.0</td>\n",
       "      <td>4083.0</td>\n",
       "    </tr>\n",
       "    <tr>\n",
       "      <th>1</th>\n",
       "      <td>1</td>\n",
       "      <td>53</td>\n",
       "      <td>9781427125576</td>\n",
       "      <td>Be a Cat Expert</td>\n",
       "      <td>Gemma,Barder</td>\n",
       "      <td>Be a Pet Expert</td>\n",
       "      <td>2020-07-31</td>\n",
       "      <td>World</td>\n",
       "      <td>NaN</td>\n",
       "      <td>False</td>\n",
       "      <td>...</td>\n",
       "      <td>4598.0</td>\n",
       "      <td>5092.0</td>\n",
       "      <td>3820.0</td>\n",
       "      <td>1489.0</td>\n",
       "      <td>3544.0</td>\n",
       "      <td>88.0</td>\n",
       "      <td>37.27</td>\n",
       "      <td>4317727.0</td>\n",
       "      <td>201090.0</td>\n",
       "      <td>90743.0</td>\n",
       "    </tr>\n",
       "    <tr>\n",
       "      <th>2</th>\n",
       "      <td>2</td>\n",
       "      <td>91</td>\n",
       "      <td>9781638973782</td>\n",
       "      <td>Changes in Matter</td>\n",
       "      <td>Christina,Earley</td>\n",
       "      <td>Physical Science</td>\n",
       "      <td>2022-02-01</td>\n",
       "      <td>World</td>\n",
       "      <td>NaN</td>\n",
       "      <td>False</td>\n",
       "      <td>...</td>\n",
       "      <td>1017.0</td>\n",
       "      <td>1126.0</td>\n",
       "      <td>914.0</td>\n",
       "      <td>757.0</td>\n",
       "      <td>905.0</td>\n",
       "      <td>96.0</td>\n",
       "      <td>80.62</td>\n",
       "      <td>288069.0</td>\n",
       "      <td>36729.0</td>\n",
       "      <td>25201.0</td>\n",
       "    </tr>\n",
       "    <tr>\n",
       "      <th>3</th>\n",
       "      <td>3</td>\n",
       "      <td>110</td>\n",
       "      <td>9781427115829</td>\n",
       "      <td>Computer Networks</td>\n",
       "      <td>Clive,Gifford</td>\n",
       "      <td>Get Connected to Digital Literacy</td>\n",
       "      <td>2015-02-28</td>\n",
       "      <td>World</td>\n",
       "      <td>NaN</td>\n",
       "      <td>False</td>\n",
       "      <td>...</td>\n",
       "      <td>14.0</td>\n",
       "      <td>10.0</td>\n",
       "      <td>9.0</td>\n",
       "      <td>7.0</td>\n",
       "      <td>9.0</td>\n",
       "      <td>100.0</td>\n",
       "      <td>77.78</td>\n",
       "      <td>766.0</td>\n",
       "      <td>558.0</td>\n",
       "      <td>302.0</td>\n",
       "    </tr>\n",
       "    <tr>\n",
       "      <th>4</th>\n",
       "      <td>4</td>\n",
       "      <td>130</td>\n",
       "      <td>9781638978206</td>\n",
       "      <td>Driverless Cars</td>\n",
       "      <td>Ryan,James</td>\n",
       "      <td>Car Mania</td>\n",
       "      <td>2022-09-01</td>\n",
       "      <td>World</td>\n",
       "      <td>NaN</td>\n",
       "      <td>False</td>\n",
       "      <td>...</td>\n",
       "      <td>568.0</td>\n",
       "      <td>688.0</td>\n",
       "      <td>510.0</td>\n",
       "      <td>319.0</td>\n",
       "      <td>506.0</td>\n",
       "      <td>97.0</td>\n",
       "      <td>61.58</td>\n",
       "      <td>194187.0</td>\n",
       "      <td>18711.0</td>\n",
       "      <td>13941.0</td>\n",
       "    </tr>\n",
       "    <tr>\n",
       "      <th>...</th>\n",
       "      <td>...</td>\n",
       "      <td>...</td>\n",
       "      <td>...</td>\n",
       "      <td>...</td>\n",
       "      <td>...</td>\n",
       "      <td>...</td>\n",
       "      <td>...</td>\n",
       "      <td>...</td>\n",
       "      <td>...</td>\n",
       "      <td>...</td>\n",
       "      <td>...</td>\n",
       "      <td>...</td>\n",
       "      <td>...</td>\n",
       "      <td>...</td>\n",
       "      <td>...</td>\n",
       "      <td>...</td>\n",
       "      <td>...</td>\n",
       "      <td>...</td>\n",
       "      <td>...</td>\n",
       "      <td>...</td>\n",
       "      <td>...</td>\n",
       "    </tr>\n",
       "    <tr>\n",
       "      <th>12186</th>\n",
       "      <td>12186</td>\n",
       "      <td>11973</td>\n",
       "      <td>9781534138889</td>\n",
       "      <td>Chip and Curly</td>\n",
       "      <td>Breisacher Cathy</td>\n",
       "      <td>NaN</td>\n",
       "      <td>2019-06-15</td>\n",
       "      <td>World</td>\n",
       "      <td>NaN</td>\n",
       "      <td>False</td>\n",
       "      <td>...</td>\n",
       "      <td>6.0</td>\n",
       "      <td>6.0</td>\n",
       "      <td>6.0</td>\n",
       "      <td>2.0</td>\n",
       "      <td>6.0</td>\n",
       "      <td>100.0</td>\n",
       "      <td>33.33</td>\n",
       "      <td>379.0</td>\n",
       "      <td>168.0</td>\n",
       "      <td>66.0</td>\n",
       "    </tr>\n",
       "    <tr>\n",
       "      <th>12187</th>\n",
       "      <td>12187</td>\n",
       "      <td>11974</td>\n",
       "      <td>9781534138766</td>\n",
       "      <td>Marty's Mission</td>\n",
       "      <td>Young Judy</td>\n",
       "      <td>NaN</td>\n",
       "      <td>2019-05-15</td>\n",
       "      <td>World</td>\n",
       "      <td>NaN</td>\n",
       "      <td>False</td>\n",
       "      <td>...</td>\n",
       "      <td>NaN</td>\n",
       "      <td>NaN</td>\n",
       "      <td>NaN</td>\n",
       "      <td>NaN</td>\n",
       "      <td>NaN</td>\n",
       "      <td>NaN</td>\n",
       "      <td>NaN</td>\n",
       "      <td>NaN</td>\n",
       "      <td>NaN</td>\n",
       "      <td>NaN</td>\n",
       "    </tr>\n",
       "    <tr>\n",
       "      <th>12188</th>\n",
       "      <td>12188</td>\n",
       "      <td>12037</td>\n",
       "      <td>9781534106338</td>\n",
       "      <td>Piece By Piece</td>\n",
       "      <td>Shaw Stephanie</td>\n",
       "      <td>NaN</td>\n",
       "      <td>2017-08-15</td>\n",
       "      <td>World</td>\n",
       "      <td>NaN</td>\n",
       "      <td>False</td>\n",
       "      <td>...</td>\n",
       "      <td>5.0</td>\n",
       "      <td>6.0</td>\n",
       "      <td>4.0</td>\n",
       "      <td>1.0</td>\n",
       "      <td>4.0</td>\n",
       "      <td>100.0</td>\n",
       "      <td>25.00</td>\n",
       "      <td>243.0</td>\n",
       "      <td>192.0</td>\n",
       "      <td>160.0</td>\n",
       "    </tr>\n",
       "    <tr>\n",
       "      <th>12189</th>\n",
       "      <td>12189</td>\n",
       "      <td>12051</td>\n",
       "      <td>9781634718882</td>\n",
       "      <td>PoPo's Lucky Chinese New Year</td>\n",
       "      <td>Loh-Hagan Virginia</td>\n",
       "      <td>NaN</td>\n",
       "      <td>2017-01-01</td>\n",
       "      <td>World</td>\n",
       "      <td>NaN</td>\n",
       "      <td>False</td>\n",
       "      <td>...</td>\n",
       "      <td>2.0</td>\n",
       "      <td>0.0</td>\n",
       "      <td>0.0</td>\n",
       "      <td>0.0</td>\n",
       "      <td>1.0</td>\n",
       "      <td>100.0</td>\n",
       "      <td>0.00</td>\n",
       "      <td>6.0</td>\n",
       "      <td>120.0</td>\n",
       "      <td>18.0</td>\n",
       "    </tr>\n",
       "    <tr>\n",
       "      <th>12190</th>\n",
       "      <td>12190</td>\n",
       "      <td>12211</td>\n",
       "      <td>9781627530606</td>\n",
       "      <td>Ozzie and the Art Contest</td>\n",
       "      <td>Sullivan Dana</td>\n",
       "      <td>NaN</td>\n",
       "      <td>2013-01-07</td>\n",
       "      <td>World</td>\n",
       "      <td>NaN</td>\n",
       "      <td>False</td>\n",
       "      <td>...</td>\n",
       "      <td>2.0</td>\n",
       "      <td>2.0</td>\n",
       "      <td>2.0</td>\n",
       "      <td>0.0</td>\n",
       "      <td>2.0</td>\n",
       "      <td>100.0</td>\n",
       "      <td>0.00</td>\n",
       "      <td>14.0</td>\n",
       "      <td>132.0</td>\n",
       "      <td>36.0</td>\n",
       "    </tr>\n",
       "  </tbody>\n",
       "</table>\n",
       "<p>12191 rows × 50 columns</p>\n",
       "</div>"
      ],
      "text/plain": [
       "       Unnamed: 0     id      book_isbn                     book_title  \\\n",
       "0               0     26  9781427118462       Ancient Egypt Inside Out   \n",
       "1               1     53  9781427125576                Be a Cat Expert   \n",
       "2               2     91  9781638973782              Changes in Matter   \n",
       "3               3    110  9781427115829              Computer Networks   \n",
       "4               4    130  9781638978206                Driverless Cars   \n",
       "...           ...    ...            ...                            ...   \n",
       "12186       12186  11973  9781534138889                 Chip and Curly   \n",
       "12187       12187  11974  9781534138766                Marty's Mission   \n",
       "12188       12188  12037  9781534106338                 Piece By Piece   \n",
       "12189       12189  12051  9781634718882  PoPo's Lucky Chinese New Year   \n",
       "12190       12190  12211  9781627530606      Ozzie and the Art Contest   \n",
       "\n",
       "                  authors                        book_series publication_date  \\\n",
       "0            Ellen,Rodger          Ancient Worlds Inside Out       2017-02-28   \n",
       "1            Gemma,Barder                    Be a Pet Expert       2020-07-31   \n",
       "2        Christina,Earley                   Physical Science       2022-02-01   \n",
       "3           Clive,Gifford  Get Connected to Digital Literacy       2015-02-28   \n",
       "4              Ryan,James                          Car Mania       2022-09-01   \n",
       "...                   ...                                ...              ...   \n",
       "12186    Breisacher Cathy                                NaN       2019-06-15   \n",
       "12187          Young Judy                                NaN       2019-05-15   \n",
       "12188      Shaw Stephanie                                NaN       2017-08-15   \n",
       "12189  Loh-Hagan Virginia                                NaN       2017-01-01   \n",
       "12190       Sullivan Dana                                NaN       2013-01-07   \n",
       "\n",
       "      rights illustrators interactive  ... clicks_students quality_clicks  \\\n",
       "0      World          NaN       False  ...           139.0          150.0   \n",
       "1      World          NaN       False  ...          4598.0         5092.0   \n",
       "2      World          NaN       False  ...          1017.0         1126.0   \n",
       "3      World          NaN       False  ...            14.0           10.0   \n",
       "4      World          NaN       False  ...           568.0          688.0   \n",
       "...      ...          ...         ...  ...             ...            ...   \n",
       "12186  World          NaN       False  ...             6.0            6.0   \n",
       "12187  World          NaN       False  ...             NaN            NaN   \n",
       "12188  World          NaN       False  ...             5.0            6.0   \n",
       "12189  World          NaN       False  ...             2.0            0.0   \n",
       "12190  World          NaN       False  ...             2.0            2.0   \n",
       "\n",
       "      quality_clicks_students students_completed_book  \\\n",
       "0                       122.0                    59.0   \n",
       "1                      3820.0                  1489.0   \n",
       "2                       914.0                   757.0   \n",
       "3                         9.0                     7.0   \n",
       "4                       510.0                   319.0   \n",
       "...                       ...                     ...   \n",
       "12186                     6.0                     2.0   \n",
       "12187                     NaN                     NaN   \n",
       "12188                     4.0                     1.0   \n",
       "12189                     0.0                     0.0   \n",
       "12190                     2.0                     0.0   \n",
       "\n",
       "      students_completed_75_per_book per_75_completed_unique_books  \\\n",
       "0                              112.0                          88.0   \n",
       "1                             3544.0                          88.0   \n",
       "2                              905.0                          96.0   \n",
       "3                                9.0                         100.0   \n",
       "4                              506.0                          97.0   \n",
       "...                              ...                           ...   \n",
       "12186                            6.0                         100.0   \n",
       "12187                            NaN                           NaN   \n",
       "12188                            4.0                         100.0   \n",
       "12189                            1.0                         100.0   \n",
       "12190                            2.0                         100.0   \n",
       "\n",
       "      completion_rate time_spent total_pages  read_pages  \n",
       "0               46.83   110959.0      6572.0      4083.0  \n",
       "1               37.27  4317727.0    201090.0     90743.0  \n",
       "2               80.62   288069.0     36729.0     25201.0  \n",
       "3               77.78      766.0       558.0       302.0  \n",
       "4               61.58   194187.0     18711.0     13941.0  \n",
       "...               ...        ...         ...         ...  \n",
       "12186           33.33      379.0       168.0        66.0  \n",
       "12187             NaN        NaN         NaN         NaN  \n",
       "12188           25.00      243.0       192.0       160.0  \n",
       "12189            0.00        6.0       120.0        18.0  \n",
       "12190            0.00       14.0       132.0        36.0  \n",
       "\n",
       "[12191 rows x 50 columns]"
      ]
     },
     "execution_count": 7,
     "metadata": {},
     "output_type": "execute_result"
    }
   ],
   "source": [
    "book_df[~book_df.id.isna()]"
   ]
  },
  {
   "cell_type": "code",
   "execution_count": 8,
   "id": "225bafb1",
   "metadata": {},
   "outputs": [],
   "source": [
    "book_df =  book_df[~book_df.id.isna()]\n"
   ]
  },
  {
   "cell_type": "code",
   "execution_count": 9,
   "id": "66857d4c",
   "metadata": {},
   "outputs": [
    {
     "data": {
      "text/html": [
       "<div>\n",
       "<style scoped>\n",
       "    .dataframe tbody tr th:only-of-type {\n",
       "        vertical-align: middle;\n",
       "    }\n",
       "\n",
       "    .dataframe tbody tr th {\n",
       "        vertical-align: top;\n",
       "    }\n",
       "\n",
       "    .dataframe thead th {\n",
       "        text-align: right;\n",
       "    }\n",
       "</style>\n",
       "<table border=\"1\" class=\"dataframe\">\n",
       "  <thead>\n",
       "    <tr style=\"text-align: right;\">\n",
       "      <th></th>\n",
       "      <th>Unnamed: 0</th>\n",
       "      <th>id</th>\n",
       "      <th>book_isbn</th>\n",
       "      <th>book_title</th>\n",
       "      <th>authors</th>\n",
       "      <th>book_series</th>\n",
       "      <th>publication_date</th>\n",
       "      <th>rights</th>\n",
       "      <th>illustrators</th>\n",
       "      <th>interactive</th>\n",
       "      <th>...</th>\n",
       "      <th>clicks_students</th>\n",
       "      <th>quality_clicks</th>\n",
       "      <th>quality_clicks_students</th>\n",
       "      <th>students_completed_book</th>\n",
       "      <th>students_completed_75_per_book</th>\n",
       "      <th>per_75_completed_unique_books</th>\n",
       "      <th>completion_rate</th>\n",
       "      <th>time_spent</th>\n",
       "      <th>total_pages</th>\n",
       "      <th>read_pages</th>\n",
       "    </tr>\n",
       "  </thead>\n",
       "  <tbody>\n",
       "    <tr>\n",
       "      <th>0</th>\n",
       "      <td>0</td>\n",
       "      <td>26</td>\n",
       "      <td>9781427118462</td>\n",
       "      <td>Ancient Egypt Inside Out</td>\n",
       "      <td>Ellen,Rodger</td>\n",
       "      <td>Ancient Worlds Inside Out</td>\n",
       "      <td>2017-02-28</td>\n",
       "      <td>World</td>\n",
       "      <td>NaN</td>\n",
       "      <td>False</td>\n",
       "      <td>...</td>\n",
       "      <td>139.0</td>\n",
       "      <td>150.0</td>\n",
       "      <td>122.0</td>\n",
       "      <td>59.0</td>\n",
       "      <td>112.0</td>\n",
       "      <td>88.0</td>\n",
       "      <td>46.83</td>\n",
       "      <td>110959.0</td>\n",
       "      <td>6572.0</td>\n",
       "      <td>4083.0</td>\n",
       "    </tr>\n",
       "    <tr>\n",
       "      <th>1</th>\n",
       "      <td>1</td>\n",
       "      <td>53</td>\n",
       "      <td>9781427125576</td>\n",
       "      <td>Be a Cat Expert</td>\n",
       "      <td>Gemma,Barder</td>\n",
       "      <td>Be a Pet Expert</td>\n",
       "      <td>2020-07-31</td>\n",
       "      <td>World</td>\n",
       "      <td>NaN</td>\n",
       "      <td>False</td>\n",
       "      <td>...</td>\n",
       "      <td>4598.0</td>\n",
       "      <td>5092.0</td>\n",
       "      <td>3820.0</td>\n",
       "      <td>1489.0</td>\n",
       "      <td>3544.0</td>\n",
       "      <td>88.0</td>\n",
       "      <td>37.27</td>\n",
       "      <td>4317727.0</td>\n",
       "      <td>201090.0</td>\n",
       "      <td>90743.0</td>\n",
       "    </tr>\n",
       "    <tr>\n",
       "      <th>2</th>\n",
       "      <td>2</td>\n",
       "      <td>91</td>\n",
       "      <td>9781638973782</td>\n",
       "      <td>Changes in Matter</td>\n",
       "      <td>Christina,Earley</td>\n",
       "      <td>Physical Science</td>\n",
       "      <td>2022-02-01</td>\n",
       "      <td>World</td>\n",
       "      <td>NaN</td>\n",
       "      <td>False</td>\n",
       "      <td>...</td>\n",
       "      <td>1017.0</td>\n",
       "      <td>1126.0</td>\n",
       "      <td>914.0</td>\n",
       "      <td>757.0</td>\n",
       "      <td>905.0</td>\n",
       "      <td>96.0</td>\n",
       "      <td>80.62</td>\n",
       "      <td>288069.0</td>\n",
       "      <td>36729.0</td>\n",
       "      <td>25201.0</td>\n",
       "    </tr>\n",
       "    <tr>\n",
       "      <th>3</th>\n",
       "      <td>3</td>\n",
       "      <td>110</td>\n",
       "      <td>9781427115829</td>\n",
       "      <td>Computer Networks</td>\n",
       "      <td>Clive,Gifford</td>\n",
       "      <td>Get Connected to Digital Literacy</td>\n",
       "      <td>2015-02-28</td>\n",
       "      <td>World</td>\n",
       "      <td>NaN</td>\n",
       "      <td>False</td>\n",
       "      <td>...</td>\n",
       "      <td>14.0</td>\n",
       "      <td>10.0</td>\n",
       "      <td>9.0</td>\n",
       "      <td>7.0</td>\n",
       "      <td>9.0</td>\n",
       "      <td>100.0</td>\n",
       "      <td>77.78</td>\n",
       "      <td>766.0</td>\n",
       "      <td>558.0</td>\n",
       "      <td>302.0</td>\n",
       "    </tr>\n",
       "    <tr>\n",
       "      <th>4</th>\n",
       "      <td>4</td>\n",
       "      <td>130</td>\n",
       "      <td>9781638978206</td>\n",
       "      <td>Driverless Cars</td>\n",
       "      <td>Ryan,James</td>\n",
       "      <td>Car Mania</td>\n",
       "      <td>2022-09-01</td>\n",
       "      <td>World</td>\n",
       "      <td>NaN</td>\n",
       "      <td>False</td>\n",
       "      <td>...</td>\n",
       "      <td>568.0</td>\n",
       "      <td>688.0</td>\n",
       "      <td>510.0</td>\n",
       "      <td>319.0</td>\n",
       "      <td>506.0</td>\n",
       "      <td>97.0</td>\n",
       "      <td>61.58</td>\n",
       "      <td>194187.0</td>\n",
       "      <td>18711.0</td>\n",
       "      <td>13941.0</td>\n",
       "    </tr>\n",
       "  </tbody>\n",
       "</table>\n",
       "<p>5 rows × 50 columns</p>\n",
       "</div>"
      ],
      "text/plain": [
       "   Unnamed: 0   id      book_isbn                book_title           authors  \\\n",
       "0           0   26  9781427118462  Ancient Egypt Inside Out      Ellen,Rodger   \n",
       "1           1   53  9781427125576           Be a Cat Expert      Gemma,Barder   \n",
       "2           2   91  9781638973782         Changes in Matter  Christina,Earley   \n",
       "3           3  110  9781427115829         Computer Networks     Clive,Gifford   \n",
       "4           4  130  9781638978206           Driverless Cars        Ryan,James   \n",
       "\n",
       "                         book_series publication_date rights illustrators  \\\n",
       "0          Ancient Worlds Inside Out       2017-02-28  World          NaN   \n",
       "1                    Be a Pet Expert       2020-07-31  World          NaN   \n",
       "2                   Physical Science       2022-02-01  World          NaN   \n",
       "3  Get Connected to Digital Literacy       2015-02-28  World          NaN   \n",
       "4                          Car Mania       2022-09-01  World          NaN   \n",
       "\n",
       "  interactive  ... clicks_students quality_clicks quality_clicks_students  \\\n",
       "0       False  ...           139.0          150.0                   122.0   \n",
       "1       False  ...          4598.0         5092.0                  3820.0   \n",
       "2       False  ...          1017.0         1126.0                   914.0   \n",
       "3       False  ...            14.0           10.0                     9.0   \n",
       "4       False  ...           568.0          688.0                   510.0   \n",
       "\n",
       "  students_completed_book students_completed_75_per_book  \\\n",
       "0                    59.0                          112.0   \n",
       "1                  1489.0                         3544.0   \n",
       "2                   757.0                          905.0   \n",
       "3                     7.0                            9.0   \n",
       "4                   319.0                          506.0   \n",
       "\n",
       "  per_75_completed_unique_books completion_rate time_spent total_pages  \\\n",
       "0                          88.0           46.83   110959.0      6572.0   \n",
       "1                          88.0           37.27  4317727.0    201090.0   \n",
       "2                          96.0           80.62   288069.0     36729.0   \n",
       "3                         100.0           77.78      766.0       558.0   \n",
       "4                          97.0           61.58   194187.0     18711.0   \n",
       "\n",
       "   read_pages  \n",
       "0      4083.0  \n",
       "1     90743.0  \n",
       "2     25201.0  \n",
       "3       302.0  \n",
       "4     13941.0  \n",
       "\n",
       "[5 rows x 50 columns]"
      ]
     },
     "execution_count": 9,
     "metadata": {},
     "output_type": "execute_result"
    }
   ],
   "source": [
    "book_df.head()"
   ]
  },
  {
   "cell_type": "code",
   "execution_count": 10,
   "id": "c896ba07",
   "metadata": {},
   "outputs": [
    {
     "data": {
      "text/plain": [
       "(12191, 50)"
      ]
     },
     "execution_count": 10,
     "metadata": {},
     "output_type": "execute_result"
    }
   ],
   "source": [
    "book_df.shape"
   ]
  },
  {
   "cell_type": "code",
   "execution_count": 11,
   "id": "8848090b",
   "metadata": {},
   "outputs": [
    {
     "data": {
      "text/plain": [
       "Index(['Unnamed: 0', 'id', 'book_isbn', 'book_title', 'authors', 'book_series',\n",
       "       'publication_date', 'rights', 'illustrators', 'interactive',\n",
       "       'search_keywords', 'top_hundred', 'book_type', 'long_description',\n",
       "       'bestseller', 'editor_recommended', 'animated', 'top_twenty',\n",
       "       'top_fifty', 'page_count', 'min_grade', 'max_grade',\n",
       "       'readable_page_count', 'min_reading_age', 'max_reading_age',\n",
       "       'read_along_audio', 'read_along_with_highlighting', 'orientation',\n",
       "       'last_reading_page_number', 'book_format', 'language_book',\n",
       "       'publisher_name', 'fiction_nonfiction', 'reading_skill_name',\n",
       "       'theme_name', 'category_name', 'book_code', 'grade_name', 'book_code.1',\n",
       "       'clicks', 'clicks_students', 'quality_clicks',\n",
       "       'quality_clicks_students', 'students_completed_book',\n",
       "       'students_completed_75_per_book', 'per_75_completed_unique_books',\n",
       "       'completion_rate', 'time_spent', 'total_pages', 'read_pages'],\n",
       "      dtype='object')"
      ]
     },
     "execution_count": 11,
     "metadata": {},
     "output_type": "execute_result"
    }
   ],
   "source": [
    "book_df.columns"
   ]
  },
  {
   "cell_type": "code",
   "execution_count": 15,
   "id": "55d2ccda",
   "metadata": {},
   "outputs": [
    {
     "name": "stdout",
     "output_type": "stream",
     "text": [
      "{'Introducing Habitats', 'Graphic America', 'Top Doodle Dog Breeds', 'Mes émotions (My Emotions) Bilingual', 'Top Sports Championships', 'Lands', 'Superstars!', 'Read Along Christmas', 'Crabtree Connections Level 3 - Below-average', 'Farm Animal Friends', 'Fair Trade', 'Crabtree Visual Dictionaries', 'The Thoughtful Octopus series', 'Histórias infantis clássicas', 'How Did That Get Here?', 'Little Hoo Bilingual', 'I can write a book', 'Tadpoles: Fairytale Jumbles', 'I Read! You Read! - Level PreK-K', 'Ten of the Best: Stories of Exploration and Adventure', 'Moose the Dog', 'My Emotions', 'Explore the Continents', 'Phoenix and Goose', 'Horsing Around', 'Gold Medal Games', 'Spooky Sites', 'Grow Your Mind', 'A Question of Science', 'Weather Close-Up', 'LOOK! Books: Ways We Go', 'My Phonics Readers - I See My ABCs', 'LOOK! Books: Nature Is All Around Me', 'Opposites All Around Me!', 'Farmyard Fairy Tales', 'Cultural Traditions in My World', 'Sports Friends', 'Cody the Dog Spanish', 'Seasons Close-Up', 'Crabtree Connections Level 1 - Average', 'Amazing Journeys of Laughter', 'Discover Phonics Vowels', 'War Machines', 'and Resources', 'Stories of Great People', 'Science Solves It', 'Animal Tales', 'Wars Waged Under the Microscope', 'Your Brilliant Body!', 'Ideas', 'I See Insects', 'Bodies of Water', 'My World - GRL I', 'My Senses', \"Let's Celebrate America\", 'Pods', 'Be Your Best Self: Building Social-Emotional Skills', 'Model-Making Mindset', 'Crabtree Connections Level 1 - Above-average', 'Quick-Reference Atlases', 'Severe Weather Close-Up', 'Tadpoles', 'Car Mania', 'Text Styles', 'Know-It-Alls! Series', \"Earth's Amazing Animals: Animal Look-Alikes\", 'The Job of a Civic Leader', 'Top Horse Breeds', 'Classic Stories - Fairy Tales', 'Eco Facts', \"Slim Goodbody's Nutrition Edition\", 'Nations of North America', \"The Adventures of Miss Happ: The World's Unluckiest Teacher\", 'Impact on Earth', 'On the Job', 'U.S. Landmarks', 'Leaving My Homeland: After the Journey', 'I Can Make Sets', 'Engineering in Action', 'Figuratively Speaking', \"Let's Rock!\", 'Watch this Space!', 'Discover Reading Bilingual', 'Native Nations of North America', 'Be the Change!', 'Pet Care', 'Start Smart: Health', 'Read & Sing Along', 'Our Multicultural World', 'Eco Activities', 'Hidden History: Spies', 'My Phonics Readers - I See My ABCs: Vowel + R', 'Full STEAM Ahead! - Science Starters', 'Learning Map Skills', 'Baby African Animals', 'I Read! You Read! Level 4', 'LOOK! Books: Math and Me', 'My First Team', 'Disaster Alert!', 'Colonial People', \"The Original Six: Celebrating Hockey's History\", 'Start Smart: Sports', 'Full STEAM Ahead! - Technology Time', 'The Human Path Across the Continents', 'Tales of Honor', 'Major League Sports', 'Discover Series', 'Discover Reading Spanish', 'Ecosystems Close-Up', 'Rhyming Adventures', 'Looking at Nature', 'Imagine That! Adventures', 'Pet Pals', 'Problem Solved! Readers', 'Photo Fun Fact Series with Audio', 'Destination: Middle Ages', 'Amazing Journeys in the Paranormal World', 'Mapping the Continents', 'Symbols of America', 'My Favorite Machines', 'Illustrated Jokes', 'Top Trade Careers', 'Recreate Scientific Discoveries', 'All About Money', 'Hooray for Family', 'Before They Were Famous', 'Animals in a Season', 'All Over the Map', 'My Path to Math - Level 1', 'The World of Insects', 'My Phonics Words - Consonant Teams', 'Race Ahead with Reading', 'Amazing Maya', 'Poetry Pages', 'Discover Fairy Tales Bilingual', 'Blue Marlin Readers', 'Daisy la détective (Detective Daisy) Bilingual', 'Science to the Rescue', 'Underground Worlds', 'Light and Sound Waves Close-Up', 'I Read! You Read! - Level K-1', 'Brave the Biome', 'I Learn with Dinosaurs', \"Earth's Natural Biomes\", 'Directions in My World', 'Discover Colors', 'LOOK! Books: Sound It Out', 'Chemtastrophe!', 'Detective Daisy', 'All Around the U.S.', 'Greek Gods and Goddesses', 'You Will Not Believe This Story!', 'Discover Fairy Tales Spanish', 'My Phonics Readers - I See My ABCs: Long Vowel Teams', 'Reading Stars Spanish', 'Xist Kids Bilingual Picture Books', 'Shark Files', 'Emoji Emotions', 'Ecosystems Inside Out', 'Biography', 'Crabtree Contact - Level 2', 'Tadpoles: Nursery Rhymes', 'My Favorite Holiday', 'Magic Trapdoor', 'Good to Be Green', 'Deadliest Animals', 'LOOK! Books: Seasons Can Be Fun', 'Basic Concepts', \"Earth's Processes Close-Up\", 'Storytime Books - Christmas', 'Christmas Carol Series', 'Improving Your Social Skills', 'Madison Mars - Level 1', 'Scratch Code Challenge', 'Go West! Travel to the Wild Frontier', 'Vehicles on the Move', 'Generation Code', \"Chef Kate's Kitchen\", 'Breakthrough Inventions', 'ABC Adventures', 'Storytime Books - Classics', 'Experience Personal Power', 'Be a Maker!', 'Hockey Source', \"Slim Goodbody's Life Skills 101\", 'Celebrations in My World', 'Exploring Countries', 'Things That Go', \"Kids' Day Out\", 'I Read! You Read! Level 5', 'We Can Readers', 'Make-It Models', 'Matter Close-Up', 'Math on the Job', 'Cutting-Edge Careers in STEM', \"Aesop's Fables\", 'Sports Starters', 'Crabtree Connections Level 1 - Below-average', 'Our Amazing Solar System', 'Word Wizard', 'Helper Hounds', 'My World - GRL C', 'Fairy Friends', 'Bear With Me', 'My Body', 'I Read! You Read! Level 6', 'Série de histórias bíblicas', 'Funny Bone Readers: Developing Character', 'Young Architect', 'Natural Resources Close-Up', 'Bobbo the Bear', 'Legends and Folk Stories', 'My Favorite Pets', 'LOOK! Books: Animals That Help Us', 'Seasons in a Year', 'Tadpoles: Fairytale Twists', 'The Scare Squad', 'Science Academy', \"La cocina de la chef Kate (Chef Kate's Kitchen) Bilingual\", 'Dangerous Snakes', 'Moon Flight Atlas', 'STEM-gineers', 'Go Figure!', 'Imagine That!', 'Mes amis les animaux du zoo (Zoo Animal Friends) Bilingual', 'Cryptid Guides: Creatures of Folklore', 'Motion Close-Up', 'Mapographica: Your World in Infographics', 'Thoughtfulness Thinking', 'Geo Facts', 'Healthy Habits', 'History Raiders', \"Let's Sort\", 'Fruits You Love To Eat', 'STEM Detectives', 'My Phonics Words - Special Vowel Teams', 'My World - GRL G', 'Basketball Source', 'In the Footsteps of Explorers', 'Simple Machines in My Makerspace', 'Discover Numbers', \"50 Things You Didn't Know About\", 'Protecting the Oceans', 'Follow the Food Chain', 'My Phonics Words - Alphabet: Consonants', 'Animals I Will Find at the Zoo', 'Step Into Science', 'Engineering Close-Up', 'Healthy Habits for a Lifetime', \"Slim Goodbody's Body Buddies\", 'Journey through Space', 'Scary Tales Retold', 'Life in the Ancient World', 'Scientists in Action', 'Top High School Sports', \"Earth's Endangered Animals\", \"Baby's First Learning Book\", 'Duck and Dog', 'My World - GRL E', 'The Robotx Get Help from Simple Machines', 'Mighty Trucks', 'The Jupiter Twins', 'Problem Solved! Your Turn to Think Big', 'Manners Matter to Maevis', 'Fun Experiences For Kids', 'Frankinschool Mysteries', 'I Love the Seasons', 'Discover Reading', 'I Live With', 'Life Science', \"What's the Matter?\", 'Putting the Planet First', 'Physical Science', 'Oceans of the World', 'Community Helpers During COVID-19', 'Start Smart: Community', 'Forensic Footprints of Ancient Worlds', 'Full STEAM Ahead! - Arts in Action', 'My World - GRL F', 'Motormania', 'Early Reader Series Level 2', 'Life Cycles of Living Things', 'Nos Amis Les Animaux de la Ferme (Farm Animal Friends) Bilingual', 'Animals Back from the Brink', 'Wonders of Our World', 'Parts of a Plant', 'I Read! You Read! - Level 3', 'Bible Stories Series', \"Nature's Changes\", 'My Favorite Sport', \"Let's Learn About Animals\", 'Who Lives in a Barn?', 'Religious', 'Introducing Living Things', 'My Phonics Words - Long Vowels', 'Luxury Rides', 'Get-Into-It Guides', 'Filou le chat (Silly Kitty) Bilingual', 'Forever Fairy Tales', 'Little Lectores', 'Travel with the Great Explorers', \"Poet's Workshop\", 'Get Graphing! Building Data Literacy Skills', 'Next Generation Energy', 'I Care About', 'Full STEAM Ahead! - Engineering Everywhere', 'Follow the Life Cycle', 'Exploring our Solar System', 'Endangered Animal Tales', 'Stone Age Science', 'Sunshine Picture Books', 'AlphaBasiCs', 'If I Was A…', 'Smithsonian Prehistoric Zone', 'Math Wiz', 'Math Academy', 'Zoo Animal Friends', 'Where Do I Live?', 'Disaster Diaries', 'My Phonics Words - Vowel + R', 'Spots and Stripes', 'Insects Close-Up', 'The Habitats of Baby Animals', 'I Can Take Away', 'Would You Rather', 'NASCAR', 'Crafts for Kids', 'Funny Bone Readers: Truck Pals', 'Odd Birds', 'Where Materials Come From', 'Mother Goose Nursery Rhymes', 'Meet My Neighbor', 'People Did What???', 'Sharing Our Cultures', 'Troops', 'Learn About Urban Life', 'Get Involved!', 'The ABCs of the Natural World', 'Staying Safe', 'The Bean Bunch', 'The Science of Living Things', 'My World - GRL D', 'Map and Track Biomes and Animals', 'The Life Cycle Series', 'Read & Sing Along - Christmas', 'Why Do I?', 'and Innovators', 'Luca and Lucky Adventures (Las aventuras de Luca y Lucky) Bilingual Eng/Spa', 'Family Snapshots', 'Read & Learn', 'My World - GRL B', 'Science Sleuths', \"Let's Move\", 'Simple Machines', 'Animal Family Adventures', 'Comptez et Trouvez', 'Time for Bunny Bilingual', 'Members of the Animal Kingdom', 'Understanding Geology', 'Economics in Action', 'Careers on the Front Line', 'People I Meet', 'Be An Engineer! Designing to Solve Problems', 'Life Skills For Kids', 'Crabtree Connections Level 2 - Average', 'Asian Animals', 'Be a Document Detective', 'I See Animals', 'My Phonics Readers - I See My ABCs: Special Vowel Teams', 'Winter Olympic Sports', 'Discover Shapes', 'What Can I Bee?', 'My State', 'My Favorite Color', 'My First', 'Natural Disasters Where I Live', '2nd Street Sports - Level 1', 'Art & Math', 'Be a Scientist', 'All About Animals Close-Up', 'Amazing Journeys in Historical Fiction', 'Mapping in the Modern World', 'Christmas Around the World', 'Big Science Ideas', 'Seven Continents of the World', 'Great Sports Rivalries', 'Little Hoo', 'What Animal Has These Parts?', 'Baseball Source', 'Haunted or Hoax?', 'Bugs in My Yard', 'Silly Milly Adventures', 'What Kind of Animal Is It?', 'Automania!', 'Take a Closer Look', 'Step Forward!', 'Biomes on Planet Earth', 'Colors in My World', 'Gross and Disgusting Things', 'Peoples', 'Your Guide to Government', 'Fun with Math', 'Olga the Cloud', 'Histórias infantis', 'Funny Bone Readers: en español', 'Reading Stars Bilingual', 'Building Resilience', 'LOOK! Books: My First Time', 'Storytime Books', 'Howie and Maple - Level 1', \"Les aventures de Milly l'espiègle (Silly Milly Adventures) Bilingual\", 'Discover Series Spanish', \"Pete's Pets\", 'Classic Nursery Rhymes', 'Time for Bunny', 'Human Habitats', 'Technology in Motion', 'Ancient Warriors', 'My Phonics Words - Word Families', 'Matter and Materials in My Makerspace', 'Wildlife Rescue', 'Epic Animal Journeys', 'MXplosion!', 'When Dinosaurs Ruled the Earth', 'Full STEAM Ahead! - Math Matters', 'Families and their Faiths', 'Ten of the Best: Myths', 'Learn about Rural Life', 'Rocks', 'I Spy with My Little Eye', 'Bedtime Series', 'American Tall Tales', 'Wildlife Worlds', 'Disgusting and Dreadful Science', 'Biographies of Diverse Heroes', 'The Science of Catastrophe', 'World of Wonder', 'Learning About Our Global Community', 'Wildlife in the City', 'Halloween Fun Series', 'Magic Postcards', 'Stone Age Geometry', \"It's fun to learn about baby animals\", 'Weird Animals', 'Entry Level Readers', 'Our Future in Space', 'Ancient Worlds Inside Out', 'Story Mode', 'Everybody Digs Soil', 'Important United States Moments', 'Senses Close-Up', 'Deserts Around the World', 'Animal Sounds', 'Code Academy', 'My Path to Math - Level 3', 'Measuring Things', 'Extreme Sports', 'My First Pet', 'Peg Saints', 'Leaving My Homeland', 'Minerals', 'Under the Sea Animals', 'Clouds Close-Up', 'Nursery Rhymes', 'Crabapples', 'Xist Kids Chapter Books', 'Monster Stories', 'Magic Strong', 'Source to Resource', 'The Medieval World', 'Ecosystems Research Journal', 'Money Sense: An Introduction to Financial Literacy', 'The Scale Of Things', 'Civic Readiness', 'Crabtree Connections Level 3 - Above-average', 'My Decodable Readers', 'Crabtree Character Sketches', 'What lives in the dirt?', \"The World's Most Dangerous Jobs\", 'UN Sustainable Development Goals', 'Stories Just for You', 'Classic Stories', 'Reading Stars', 'Energy Sources', 'Kid Power', 'Photo Fun Fact Series', 'I Like Art', 'LOOK! Books: Beginner Biographies', \"Can You Believe It's True?\", \"Kika's First Books\", 'The Backyard Players', 'My Community', 'Xist Kids Spanish Picture Books', 'Family Snaps', 'Get Art Smart', 'Xist Classics', 'Machines at Work', 'Catch a Wave', 'Top Dog Breeds', 'Get into Character', 'Sunshine Picture Books - Bilingual', \"Let's Go Fish\", 'LOOK! Books: Hello Neighbor', 'Spotlight on my Country', 'Inventions', 'and Cultures', 'and Other Animal Groups', 'My World - GRL A', 'Trainer Tom', 'Get to Know Simple Machines', 'Your Positive Digital Footprint', 'Little Hoo Spanish', 'Rivers Around the World', 'Les gens que je rencontre (People I Meet) Bilingual', 'Science and Technology Start-Up Stars', 'Rapping about…', 'Food Chains', 'My Phonics Words - Long Vowel Teams', 'Dual Language - English Spanish Reader', 'Moun Mwen Rankontre Yo (People I Meet) Bilingual', 'The Four Freedoms', 'Ick and Crud', 'Read Along', 'Cuenta y Encuentra', 'Our Values - Level 2', 'Funny Bone Readers: Dealing with Bullies', 'Historic Communities', 'Discover Fairy Tales', 'Life in the Old West', 'Discover Phonics Consonants', 'Space Cat Explores STEM', 'My World - GRL J', 'Mystery Files', 'Classic Fairy Tales with a Twist (Cuentos de hadas clásicos con un toque diferente) Bilingual Eng/Spa', 'Favorite Collections Series', 'Look into the Human Body', 'Technology', 'Earth and Space Science', 'Cat and Dog Readers Spanish', 'Remarkable Lives Revealed', 'Our Values - Level 1', 'Creepy Crawlies', 'Baby’s First Bible Book', 'My Phonics Readers - I See My Consonant Teams', \"Earth's Amazing Animals: Animal Top Ten\", 'Counting Books', 'Count and Find', 'Sports in Action', 'From Olden Days to Modern Ways in Your Community', 'Tadpoles: Tales', 'Discover Series Bilingual', 'My Phonics Words - Alphabet: Short Vowels', 'Astonishing Animals', 'Luca and Lucky Adventures', 'Understanding Electricity', 'Sports Cheers', 'Discover the Alphabet', 'Jobs of a Working Dog', 'Crazy Creatures', 'My First Book Series', 'Little Readers', 'Cody the Dog Bilingual', 'My Path to Math - Level 2', 'Cat and Dog Readers', 'Dolphin Worlds', 'Engineering Masterpieces', '儿歌书', 'DIY Projects for Early Learners', 'My Community and its Helpers', 'Cat and Dog Readers Bilingual', 'Game On!', 'Tadpoles: Nursery Crimes', 'No Kidding!', 'Zannimo Pak Yo (Farm Animal Friends) Bilingual', \"Earth's Amazing Animals: Animal Superpowers\", 'Experiencias Divertidas Para Niños', 'Wanted: Werecat', 'Baby’s First Christmas Book', 'Funny Bone Readers: Living Healthy', 'Why Chemistry Matters', 'Setting the Stage for Fluency', 'Baseball Buddies', 'Baby Animals', 'My Favorite Animal', 'Serving with Honor', 'If These Fossils Could Talk', 'Time for Bunny Spanish', 'Documents of America', 'Looking at Earth', 'Être à son meilleur (Being Your Best) Bilingual', 'Well Made', 'Football Source', 'My World - GRL H', 'Soccer Source', 'Extreme Sports - No Limits!', 'Where Food Comes From', 'Words in My World', 'Seasons', 'Women in History', 'What Color Are My Feelings?', 'Investigating Science Challenges', 'The Genius of the Ancients', 'I Spy in My Community', 'Energy Revolution', 'Discover Musical Instruments', \"Earth's Amazing Animals\", 'Citizenship in Action', 'Get Connected to Digital Literacy', 'Funny Bone Readers: Being a Friend', 'Start Smart: Money', 'Mapping My World', 'Code Monkeys', 'Cutting-Edge Careers in Technical Education', 'The Living Ocean', 'Techno Planet', 'Comparing Countries (Compara países)', 'Jesse Steam Mysteries: Solving Mysteries Through Science', 'Our Green Earth', 'The Weather Forecast', 'Black History Biographies', 'Plants Close-Up', \"Introduction to Earth's Resources\", 'Black and White Beginning Concepts', \"Let's Communicate\", 'Sports Positions', 'Early Science', 'The Olympic Sports', 'Cody the Dog', 'All Kinds of People', 'Sing-A-Story', 'Art Skills Lab', 'Growing Up', 'Early Reader Series Level 1', 'The Green Scene', 'STEM Twisters', 'Renaissance World', 'Great Explorers', 'Unsolved!', 'Engineering', 'Winning the Game', 'Candy School', 'Our Values - Level 3', 'Be a Pet Expert', 'Bo and Zop Learn How to Be an Earthling'}\n",
      "644\n"
     ]
    }
   ],
   "source": [
    "# Step 1: Drop missing values (optional)\n",
    "df_clean = book_df['book_series'].dropna()\n",
    "\n",
    "# Step 2: Split by comma, strip spaces, and flatten\n",
    "unique_values = set(\n",
    "    val.strip()\n",
    "    for sublist in df_clean.str.split(',')\n",
    "    for val in sublist\n",
    ")\n",
    "\n",
    "print(unique_values)\n",
    "print(len(unique_values))\n"
   ]
  },
  {
   "cell_type": "code",
   "execution_count": 156,
   "id": "beb4e9cb",
   "metadata": {},
   "outputs": [
    {
     "data": {
      "text/plain": [
       "book_type\n",
       "PDF     7610\n",
       "EPUB    4579\n",
       "Name: count, dtype: int64"
      ]
     },
     "execution_count": 156,
     "metadata": {},
     "output_type": "execute_result"
    }
   ],
   "source": [
    "book_df['book_type'].value_counts()"
   ]
  },
  {
   "cell_type": "code",
   "execution_count": null,
   "id": "4c7537ac",
   "metadata": {},
   "outputs": [],
   "source": [
    "#publication date are not available what I can say about when these books are published\n",
    "# illustrator means person who is reading book?\n",
    "# does(book_type) pdf,epub effect user experience in anyway?\n",
    "# Can I say in best seller and editor recommended that if value is missing they are not a best seller or editor recommended\n",
    "# age will always remain between 2 to 12 for books\n",
    "# Orientation is missing in most of the books and is it affect user experience\n",
    "# publisher not avaialbel for 50% books\n",
    "\n",
    "\n",
    "# comine category_name, reading_skills\n",
    "# combined_text = df['title'] + ' by ' + df['author']\n",
    "# for grade and age grade_ids = [[1, 2], [3], [1, 3, 5], ...]  # encode each grade to a unique ID\n",
    "# embedding = nn.Embedding(num_grades, embedding_dim)\n",
    "# pooled_embedding = torch.mean(embedding(grade_ids), dim=1)"
   ]
  },
  {
   "cell_type": "code",
   "execution_count": 157,
   "id": "dd9df45b",
   "metadata": {},
   "outputs": [
    {
     "data": {
      "text/plain": [
       "(0, 52)"
      ]
     },
     "execution_count": 157,
     "metadata": {},
     "output_type": "execute_result"
    }
   ],
   "source": [
    "book_df[book_df['book_type'].isna()].shape"
   ]
  },
  {
   "cell_type": "code",
   "execution_count": 94,
   "id": "ee01c8e6",
   "metadata": {},
   "outputs": [],
   "source": [
    "book_df['title_plus_author'] = book_df.apply(lambda x:x['book_title'].lower()+' by '+x['authors'].lower(),axis=1)"
   ]
  },
  {
   "cell_type": "code",
   "execution_count": 41,
   "id": "579ead1d",
   "metadata": {},
   "outputs": [
    {
     "name": "stdout",
     "output_type": "stream",
     "text": [
      "<class 'pandas.core.frame.DataFrame'>\n",
      "Index: 12189 entries, 0 to 12190\n",
      "Data columns (total 51 columns):\n",
      " #   Column                          Non-Null Count  Dtype   \n",
      "---  ------                          --------------  -----   \n",
      " 0   id                              12189 non-null  float64 \n",
      " 1   book_isbn                       12189 non-null  object  \n",
      " 2   book_title                      12189 non-null  object  \n",
      " 3   authors                         12189 non-null  object  \n",
      " 4   book_series                     5400 non-null   object  \n",
      " 5   publication_date                10786 non-null  object  \n",
      " 6   rights                          12189 non-null  object  \n",
      " 7   illustrators                    1870 non-null   object  \n",
      " 8   interactive                     10763 non-null  object  \n",
      " 9   search_keywords                 4541 non-null   object  \n",
      " 10  top_hundred                     7934 non-null   object  \n",
      " 11  book_type                       12189 non-null  object  \n",
      " 12  long_description                12188 non-null  object  \n",
      " 13  bestseller                      7854 non-null   object  \n",
      " 14  editor_recommended              7862 non-null   object  \n",
      " 15  animated                        10763 non-null  object  \n",
      " 16  top_twenty                      7893 non-null   object  \n",
      " 17  top_fifty                       7854 non-null   object  \n",
      " 18  page_count                      12178 non-null  float64 \n",
      " 19  min_grade                       12189 non-null  object  \n",
      " 20  max_grade                       12189 non-null  object  \n",
      " 21  readable_page_count             12189 non-null  int64   \n",
      " 22  min_reading_age                 12189 non-null  int64   \n",
      " 23  max_reading_age                 12189 non-null  int64   \n",
      " 24  read_along_audio                10763 non-null  object  \n",
      " 25  read_along_with_highlighting    10763 non-null  object  \n",
      " 26  orientation                     4136 non-null   object  \n",
      " 27  last_reading_page_number        4138 non-null   float64 \n",
      " 28  book_format                     12189 non-null  object  \n",
      " 29  language_book                   12189 non-null  object  \n",
      " 30  publisher_name                  5568 non-null   object  \n",
      " 31  fiction_nonfiction              12184 non-null  object  \n",
      " 32  reading_skill_name              2536 non-null   object  \n",
      " 33  theme_name                      12163 non-null  object  \n",
      " 34  category_name                   12163 non-null  object  \n",
      " 35  book_code                       0 non-null      object  \n",
      " 36  grade_name                      0 non-null      object  \n",
      " 37  book_code                       10280 non-null  object  \n",
      " 38  clicks                          10280 non-null  float64 \n",
      " 39  clicks_students                 10280 non-null  float64 \n",
      " 40  quality_clicks                  10280 non-null  float64 \n",
      " 41  quality_clicks_students         10280 non-null  float64 \n",
      " 42  students_completed_book         10280 non-null  float64 \n",
      " 43  students_completed_75_per_book  10280 non-null  float64 \n",
      " 44  per_75_completed_unique_books   9999 non-null   float64 \n",
      " 45  completion_rate                 9999 non-null   float64 \n",
      " 46  time_spent                      10280 non-null  float64 \n",
      " 47  total_pages                     10232 non-null  float64 \n",
      " 48  read_pages                      10015 non-null  float64 \n",
      " 49  completion_value                10015 non-null  float64 \n",
      " 50  completion_bucket               10015 non-null  category\n",
      "dtypes: category(1), float64(15), int64(3), object(32)\n",
      "memory usage: 4.8+ MB\n"
     ]
    }
   ],
   "source": [
    "book_df.info()"
   ]
  },
  {
   "cell_type": "code",
   "execution_count": 200,
   "id": "b7cd495f",
   "metadata": {},
   "outputs": [],
   "source": [
    "book_df['completion_value'] = book_df['read_pages']/ book_df['total_pages'] \n",
    "bins = [0, 0.2, 0.3, 0.4, 0.5, 0.6, 0.7, 0.8, 0.9, 1.0]\n",
    "labels = ['<20', '20-30', '30-40', '40-50', '50-60', '60-70', '70-80', '80-90', '>90']\n",
    "\n",
    "book_df['completion_bucket'] = pd.cut(book_df['completion_value'], bins=bins, labels=labels, include_lowest=True, right=True)"
   ]
  },
  {
   "cell_type": "code",
   "execution_count": 26,
   "id": "def43852",
   "metadata": {},
   "outputs": [
    {
     "data": {
      "text/plain": [
       "12189"
      ]
     },
     "execution_count": 26,
     "metadata": {},
     "output_type": "execute_result"
    }
   ],
   "source": [
    "book_df.book_isbn.nunique()"
   ]
  },
  {
   "cell_type": "code",
   "execution_count": 42,
   "id": "908f0eba",
   "metadata": {},
   "outputs": [
    {
     "data": {
      "text/plain": [
       "rights\n",
       "World      11996\n",
       "NA only      193\n",
       "Name: count, dtype: int64"
      ]
     },
     "execution_count": 42,
     "metadata": {},
     "output_type": "execute_result"
    }
   ],
   "source": [
    "book_df.rights.value_counts()"
   ]
  },
  {
   "cell_type": "code",
   "execution_count": 38,
   "id": "c9215221",
   "metadata": {},
   "outputs": [],
   "source": [
    "import seaborn as sns\n",
    "import matplotlib.pyplot as plt\n",
    "\n",
    "def plot_categorical_distributions(df, categorical_columns, bucket_column='completion_bucket'):\n",
    "    \"\"\"\n",
    "    Plots count plots of each categorical variable split by completion bucket.\n",
    "    \n",
    "    Args:\n",
    "        df: pandas DataFrame containing the data.\n",
    "        categorical_columns: list of column names (categorical).\n",
    "        bucket_column: column name representing completion buckets.\n",
    "    \"\"\"\n",
    "    for col in categorical_columns:\n",
    "        plt.figure(figsize=(10, 5))\n",
    "        sns.countplot(data=df, x=col, hue=bucket_column, palette=\"Set2\")\n",
    "        plt.title(f'Distribution of {col} by {bucket_column}')\n",
    "        plt.xticks(rotation=45)\n",
    "        plt.tight_layout()\n",
    "        plt.show()\n"
   ]
  },
  {
   "cell_type": "code",
   "execution_count": 40,
   "id": "c6cdb479",
   "metadata": {},
   "outputs": [
    {
     "ename": "TypeError",
     "evalue": "'<' not supported between instances of 'NoneType' and 'bool'",
     "output_type": "error",
     "traceback": [
      "\u001b[31m---------------------------------------------------------------------------\u001b[39m",
      "\u001b[31mAttributeError\u001b[39m                            Traceback (most recent call last)",
      "\u001b[36mFile \u001b[39m\u001b[32m/opt/anaconda3/envs/tta/lib/python3.12/site-packages/seaborn/_base.py:1768\u001b[39m, in \u001b[36mcategorical_order\u001b[39m\u001b[34m(vector, order)\u001b[39m\n\u001b[32m   1767\u001b[39m \u001b[38;5;28;01mtry\u001b[39;00m:\n\u001b[32m-> \u001b[39m\u001b[32m1768\u001b[39m     order = \u001b[43mvector\u001b[49m\u001b[43m.\u001b[49m\u001b[43mcat\u001b[49m.categories\n\u001b[32m   1769\u001b[39m \u001b[38;5;28;01mexcept\u001b[39;00m (\u001b[38;5;167;01mTypeError\u001b[39;00m, \u001b[38;5;167;01mAttributeError\u001b[39;00m):\n",
      "\u001b[36mFile \u001b[39m\u001b[32m/opt/anaconda3/envs/tta/lib/python3.12/site-packages/pandas/core/generic.py:6318\u001b[39m, in \u001b[36mNDFrame.__getattr__\u001b[39m\u001b[34m(self, name)\u001b[39m\n\u001b[32m   6317\u001b[39m     \u001b[38;5;28;01mreturn\u001b[39;00m \u001b[38;5;28mself\u001b[39m[name]\n\u001b[32m-> \u001b[39m\u001b[32m6318\u001b[39m \u001b[38;5;28;01mreturn\u001b[39;00m \u001b[38;5;28;43mobject\u001b[39;49m\u001b[43m.\u001b[49m\u001b[34;43m__getattribute__\u001b[39;49m\u001b[43m(\u001b[49m\u001b[38;5;28;43mself\u001b[39;49m\u001b[43m,\u001b[49m\u001b[43m \u001b[49m\u001b[43mname\u001b[49m\u001b[43m)\u001b[49m\n",
      "\u001b[36mFile \u001b[39m\u001b[32m/opt/anaconda3/envs/tta/lib/python3.12/site-packages/pandas/core/accessor.py:224\u001b[39m, in \u001b[36mCachedAccessor.__get__\u001b[39m\u001b[34m(self, obj, cls)\u001b[39m\n\u001b[32m    223\u001b[39m     \u001b[38;5;28;01mreturn\u001b[39;00m \u001b[38;5;28mself\u001b[39m._accessor\n\u001b[32m--> \u001b[39m\u001b[32m224\u001b[39m accessor_obj = \u001b[38;5;28;43mself\u001b[39;49m\u001b[43m.\u001b[49m\u001b[43m_accessor\u001b[49m\u001b[43m(\u001b[49m\u001b[43mobj\u001b[49m\u001b[43m)\u001b[49m\n\u001b[32m    225\u001b[39m \u001b[38;5;66;03m# Replace the property with the accessor object. Inspired by:\u001b[39;00m\n\u001b[32m    226\u001b[39m \u001b[38;5;66;03m# https://www.pydanny.com/cached-property.html\u001b[39;00m\n\u001b[32m    227\u001b[39m \u001b[38;5;66;03m# We need to use object.__setattr__ because we overwrite __setattr__ on\u001b[39;00m\n\u001b[32m    228\u001b[39m \u001b[38;5;66;03m# NDFrame\u001b[39;00m\n",
      "\u001b[36mFile \u001b[39m\u001b[32m/opt/anaconda3/envs/tta/lib/python3.12/site-packages/pandas/core/arrays/categorical.py:2931\u001b[39m, in \u001b[36mCategoricalAccessor.__init__\u001b[39m\u001b[34m(self, data)\u001b[39m\n\u001b[32m   2930\u001b[39m \u001b[38;5;28;01mdef\u001b[39;00m\u001b[38;5;250m \u001b[39m\u001b[34m__init__\u001b[39m(\u001b[38;5;28mself\u001b[39m, data) -> \u001b[38;5;28;01mNone\u001b[39;00m:\n\u001b[32m-> \u001b[39m\u001b[32m2931\u001b[39m     \u001b[38;5;28;43mself\u001b[39;49m\u001b[43m.\u001b[49m\u001b[43m_validate\u001b[49m\u001b[43m(\u001b[49m\u001b[43mdata\u001b[49m\u001b[43m)\u001b[49m\n\u001b[32m   2932\u001b[39m     \u001b[38;5;28mself\u001b[39m._parent = data.values\n",
      "\u001b[36mFile \u001b[39m\u001b[32m/opt/anaconda3/envs/tta/lib/python3.12/site-packages/pandas/core/arrays/categorical.py:2940\u001b[39m, in \u001b[36mCategoricalAccessor._validate\u001b[39m\u001b[34m(data)\u001b[39m\n\u001b[32m   2939\u001b[39m \u001b[38;5;28;01mif\u001b[39;00m \u001b[38;5;129;01mnot\u001b[39;00m \u001b[38;5;28misinstance\u001b[39m(data.dtype, CategoricalDtype):\n\u001b[32m-> \u001b[39m\u001b[32m2940\u001b[39m     \u001b[38;5;28;01mraise\u001b[39;00m \u001b[38;5;167;01mAttributeError\u001b[39;00m(\u001b[33m\"\u001b[39m\u001b[33mCan only use .cat accessor with a \u001b[39m\u001b[33m'\u001b[39m\u001b[33mcategory\u001b[39m\u001b[33m'\u001b[39m\u001b[33m dtype\u001b[39m\u001b[33m\"\u001b[39m)\n",
      "\u001b[31mAttributeError\u001b[39m: Can only use .cat accessor with a 'category' dtype",
      "\nDuring handling of the above exception, another exception occurred:\n",
      "\u001b[31mTypeError\u001b[39m                                 Traceback (most recent call last)",
      "\u001b[36mCell\u001b[39m\u001b[36m \u001b[39m\u001b[32mIn[40]\u001b[39m\u001b[32m, line 2\u001b[39m\n\u001b[32m      1\u001b[39m categorical_cols = [\u001b[33m'\u001b[39m\u001b[33mtop_hundred\u001b[39m\u001b[33m'\u001b[39m, \u001b[33m'\u001b[39m\u001b[33mbook_type\u001b[39m\u001b[33m'\u001b[39m]  \u001b[38;5;66;03m# Replace with your actual column names\u001b[39;00m\n\u001b[32m----> \u001b[39m\u001b[32m2\u001b[39m \u001b[43mplot_categorical_distributions\u001b[49m\u001b[43m(\u001b[49m\u001b[43mbook_df\u001b[49m\u001b[43m,\u001b[49m\u001b[43m \u001b[49m\u001b[43mcategorical_cols\u001b[49m\u001b[43m,\u001b[49m\u001b[43m \u001b[49m\u001b[43mbucket_column\u001b[49m\u001b[43m=\u001b[49m\u001b[33;43m'\u001b[39;49m\u001b[33;43mcompletion_bucket\u001b[39;49m\u001b[33;43m'\u001b[39;49m\u001b[43m)\u001b[49m\n",
      "\u001b[36mCell\u001b[39m\u001b[36m \u001b[39m\u001b[32mIn[38]\u001b[39m\u001b[32m, line 15\u001b[39m, in \u001b[36mplot_categorical_distributions\u001b[39m\u001b[34m(df, categorical_columns, bucket_column)\u001b[39m\n\u001b[32m     13\u001b[39m \u001b[38;5;28;01mfor\u001b[39;00m col \u001b[38;5;129;01min\u001b[39;00m categorical_columns:\n\u001b[32m     14\u001b[39m     plt.figure(figsize=(\u001b[32m10\u001b[39m, \u001b[32m5\u001b[39m))\n\u001b[32m---> \u001b[39m\u001b[32m15\u001b[39m     \u001b[43msns\u001b[49m\u001b[43m.\u001b[49m\u001b[43mcountplot\u001b[49m\u001b[43m(\u001b[49m\u001b[43mdata\u001b[49m\u001b[43m=\u001b[49m\u001b[43mdf\u001b[49m\u001b[43m,\u001b[49m\u001b[43m \u001b[49m\u001b[43mx\u001b[49m\u001b[43m=\u001b[49m\u001b[43mcol\u001b[49m\u001b[43m,\u001b[49m\u001b[43m \u001b[49m\u001b[43mhue\u001b[49m\u001b[43m=\u001b[49m\u001b[43mbucket_column\u001b[49m\u001b[43m,\u001b[49m\u001b[43m \u001b[49m\u001b[43mpalette\u001b[49m\u001b[43m=\u001b[49m\u001b[33;43m\"\u001b[39;49m\u001b[33;43mSet2\u001b[39;49m\u001b[33;43m\"\u001b[39;49m\u001b[43m)\u001b[49m\n\u001b[32m     16\u001b[39m     plt.title(\u001b[33mf\u001b[39m\u001b[33m'\u001b[39m\u001b[33mDistribution of \u001b[39m\u001b[38;5;132;01m{\u001b[39;00mcol\u001b[38;5;132;01m}\u001b[39;00m\u001b[33m by \u001b[39m\u001b[38;5;132;01m{\u001b[39;00mbucket_column\u001b[38;5;132;01m}\u001b[39;00m\u001b[33m'\u001b[39m)\n\u001b[32m     17\u001b[39m     plt.xticks(rotation=\u001b[32m45\u001b[39m)\n",
      "\u001b[36mFile \u001b[39m\u001b[32m/opt/anaconda3/envs/tta/lib/python3.12/site-packages/seaborn/categorical.py:2631\u001b[39m, in \u001b[36mcountplot\u001b[39m\u001b[34m(data, x, y, hue, order, hue_order, orient, color, palette, saturation, fill, hue_norm, stat, width, dodge, gap, log_scale, native_scale, formatter, legend, ax, **kwargs)\u001b[39m\n\u001b[32m   2628\u001b[39m \u001b[38;5;28;01melif\u001b[39;00m x \u001b[38;5;129;01mis\u001b[39;00m \u001b[38;5;129;01mnot\u001b[39;00m \u001b[38;5;28;01mNone\u001b[39;00m \u001b[38;5;129;01mand\u001b[39;00m y \u001b[38;5;129;01mis\u001b[39;00m \u001b[38;5;129;01mnot\u001b[39;00m \u001b[38;5;28;01mNone\u001b[39;00m:\n\u001b[32m   2629\u001b[39m     \u001b[38;5;28;01mraise\u001b[39;00m \u001b[38;5;167;01mTypeError\u001b[39;00m(\u001b[33m\"\u001b[39m\u001b[33mCannot pass values for both `x` and `y`.\u001b[39m\u001b[33m\"\u001b[39m)\n\u001b[32m-> \u001b[39m\u001b[32m2631\u001b[39m p = \u001b[43m_CategoricalAggPlotter\u001b[49m\u001b[43m(\u001b[49m\n\u001b[32m   2632\u001b[39m \u001b[43m    \u001b[49m\u001b[43mdata\u001b[49m\u001b[43m=\u001b[49m\u001b[43mdata\u001b[49m\u001b[43m,\u001b[49m\n\u001b[32m   2633\u001b[39m \u001b[43m    \u001b[49m\u001b[43mvariables\u001b[49m\u001b[43m=\u001b[49m\u001b[38;5;28;43mdict\u001b[39;49m\u001b[43m(\u001b[49m\u001b[43mx\u001b[49m\u001b[43m=\u001b[49m\u001b[43mx\u001b[49m\u001b[43m,\u001b[49m\u001b[43m \u001b[49m\u001b[43my\u001b[49m\u001b[43m=\u001b[49m\u001b[43my\u001b[49m\u001b[43m,\u001b[49m\u001b[43m \u001b[49m\u001b[43mhue\u001b[49m\u001b[43m=\u001b[49m\u001b[43mhue\u001b[49m\u001b[43m)\u001b[49m\u001b[43m,\u001b[49m\n\u001b[32m   2634\u001b[39m \u001b[43m    \u001b[49m\u001b[43morder\u001b[49m\u001b[43m=\u001b[49m\u001b[43morder\u001b[49m\u001b[43m,\u001b[49m\n\u001b[32m   2635\u001b[39m \u001b[43m    \u001b[49m\u001b[43morient\u001b[49m\u001b[43m=\u001b[49m\u001b[43morient\u001b[49m\u001b[43m,\u001b[49m\n\u001b[32m   2636\u001b[39m \u001b[43m    \u001b[49m\u001b[43mcolor\u001b[49m\u001b[43m=\u001b[49m\u001b[43mcolor\u001b[49m\u001b[43m,\u001b[49m\n\u001b[32m   2637\u001b[39m \u001b[43m    \u001b[49m\u001b[43mlegend\u001b[49m\u001b[43m=\u001b[49m\u001b[43mlegend\u001b[49m\u001b[43m,\u001b[49m\n\u001b[32m   2638\u001b[39m \u001b[43m\u001b[49m\u001b[43m)\u001b[49m\n\u001b[32m   2640\u001b[39m \u001b[38;5;28;01mif\u001b[39;00m ax \u001b[38;5;129;01mis\u001b[39;00m \u001b[38;5;28;01mNone\u001b[39;00m:\n\u001b[32m   2641\u001b[39m     ax = plt.gca()\n",
      "\u001b[36mFile \u001b[39m\u001b[32m/opt/anaconda3/envs/tta/lib/python3.12/site-packages/seaborn/categorical.py:131\u001b[39m, in \u001b[36m_CategoricalPlotter.__init__\u001b[39m\u001b[34m(self, data, variables, order, orient, require_numeric, color, legend)\u001b[39m\n\u001b[32m    128\u001b[39m     \u001b[38;5;28mself\u001b[39m.plot_data[\u001b[38;5;28mself\u001b[39m.orient] = \u001b[33m\"\u001b[39m\u001b[33m\"\u001b[39m\n\u001b[32m    130\u001b[39m \u001b[38;5;66;03m# Categorical variables have discrete levels that we need to track\u001b[39;00m\n\u001b[32m--> \u001b[39m\u001b[32m131\u001b[39m cat_levels = \u001b[43mcategorical_order\u001b[49m\u001b[43m(\u001b[49m\u001b[38;5;28;43mself\u001b[39;49m\u001b[43m.\u001b[49m\u001b[43mplot_data\u001b[49m\u001b[43m[\u001b[49m\u001b[38;5;28;43mself\u001b[39;49m\u001b[43m.\u001b[49m\u001b[43morient\u001b[49m\u001b[43m]\u001b[49m\u001b[43m,\u001b[49m\u001b[43m \u001b[49m\u001b[43morder\u001b[49m\u001b[43m)\u001b[49m\n\u001b[32m    132\u001b[39m \u001b[38;5;28mself\u001b[39m.var_levels[\u001b[38;5;28mself\u001b[39m.orient] = cat_levels\n",
      "\u001b[36mFile \u001b[39m\u001b[32m/opt/anaconda3/envs/tta/lib/python3.12/site-packages/seaborn/_base.py:1774\u001b[39m, in \u001b[36mcategorical_order\u001b[39m\u001b[34m(vector, order)\u001b[39m\n\u001b[32m   1771\u001b[39m             order = pd.Series(vector).unique()\n\u001b[32m   1773\u001b[39m             \u001b[38;5;28;01mif\u001b[39;00m variable_type(vector) == \u001b[33m\"\u001b[39m\u001b[33mnumeric\u001b[39m\u001b[33m\"\u001b[39m:\n\u001b[32m-> \u001b[39m\u001b[32m1774\u001b[39m                 order = \u001b[43mnp\u001b[49m\u001b[43m.\u001b[49m\u001b[43msort\u001b[49m\u001b[43m(\u001b[49m\u001b[43morder\u001b[49m\u001b[43m)\u001b[49m\n\u001b[32m   1776\u001b[39m     order = \u001b[38;5;28mfilter\u001b[39m(pd.notnull, order)\n\u001b[32m   1777\u001b[39m \u001b[38;5;28;01mreturn\u001b[39;00m \u001b[38;5;28mlist\u001b[39m(order)\n",
      "\u001b[36mFile \u001b[39m\u001b[32m/opt/anaconda3/envs/tta/lib/python3.12/site-packages/numpy/_core/fromnumeric.py:1121\u001b[39m, in \u001b[36msort\u001b[39m\u001b[34m(a, axis, kind, order, stable)\u001b[39m\n\u001b[32m   1119\u001b[39m \u001b[38;5;28;01melse\u001b[39;00m:\n\u001b[32m   1120\u001b[39m     a = asanyarray(a).copy(order=\u001b[33m\"\u001b[39m\u001b[33mK\u001b[39m\u001b[33m\"\u001b[39m)\n\u001b[32m-> \u001b[39m\u001b[32m1121\u001b[39m \u001b[43ma\u001b[49m\u001b[43m.\u001b[49m\u001b[43msort\u001b[49m\u001b[43m(\u001b[49m\u001b[43maxis\u001b[49m\u001b[43m=\u001b[49m\u001b[43maxis\u001b[49m\u001b[43m,\u001b[49m\u001b[43m \u001b[49m\u001b[43mkind\u001b[49m\u001b[43m=\u001b[49m\u001b[43mkind\u001b[49m\u001b[43m,\u001b[49m\u001b[43m \u001b[49m\u001b[43morder\u001b[49m\u001b[43m=\u001b[49m\u001b[43morder\u001b[49m\u001b[43m,\u001b[49m\u001b[43m \u001b[49m\u001b[43mstable\u001b[49m\u001b[43m=\u001b[49m\u001b[43mstable\u001b[49m\u001b[43m)\u001b[49m\n\u001b[32m   1122\u001b[39m \u001b[38;5;28;01mreturn\u001b[39;00m a\n",
      "\u001b[31mTypeError\u001b[39m: '<' not supported between instances of 'NoneType' and 'bool'"
     ]
    },
    {
     "data": {
      "text/plain": [
       "<Figure size 1000x500 with 0 Axes>"
      ]
     },
     "metadata": {},
     "output_type": "display_data"
    }
   ],
   "source": [
    "categorical_cols = ['top_hundred', 'book_type']  # Replace with your actual column names\n",
    "plot_categorical_distributions(book_df, categorical_cols, bucket_column='completion_bucket')\n"
   ]
  },
  {
   "cell_type": "code",
   "execution_count": 88,
   "id": "a47e3cfd",
   "metadata": {},
   "outputs": [
    {
     "data": {
      "text/plain": [
       "np.float64(2.8041394323353503)"
      ]
     },
     "execution_count": 88,
     "metadata": {},
     "output_type": "execute_result"
    }
   ],
   "source": [
    "import numpy as np\n",
    "np.log10(637)"
   ]
  },
  {
   "cell_type": "code",
   "execution_count": 90,
   "id": "8b4d1d49",
   "metadata": {},
   "outputs": [
    {
     "name": "stderr",
     "output_type": "stream",
     "text": [
      "/opt/anaconda3/envs/tta/lib/python3.12/site-packages/tqdm/auto.py:21: TqdmWarning: IProgress not found. Please update jupyter and ipywidgets. See https://ipywidgets.readthedocs.io/en/stable/user_install.html\n",
      "  from .autonotebook import tqdm as notebook_tqdm\n"
     ]
    }
   ],
   "source": [
    "from sentence_transformers import SentenceTransformer\n",
    "\n",
    "model = SentenceTransformer('all-MiniLM-L6-v2')  # Lightweight and fast\n",
    "\n",
    "# Assume df['book_title'] contains your titles\n",
    "# df['title_embedding'] = df['book_title'].apply(lambda x: model.encode(str(x), normalize_embeddings=True))\n"
   ]
  },
  {
   "cell_type": "code",
   "execution_count": 97,
   "id": "1a0637ad",
   "metadata": {},
   "outputs": [
    {
     "data": {
      "text/plain": [
       "\"craig kielburger: champion for children's rights and youth activism by linda,barghoorn\""
      ]
     },
     "execution_count": 97,
     "metadata": {},
     "output_type": "execute_result"
    }
   ],
   "source": [
    "x = book_df['title_plus_author'][1]\n",
    "x"
   ]
  },
  {
   "cell_type": "code",
   "execution_count": null,
   "id": "e6a2f5d8",
   "metadata": {},
   "outputs": [
    {
     "name": "stderr",
     "output_type": "stream",
     "text": [
      "/opt/anaconda3/envs/tta/lib/python3.12/site-packages/torch/nn/modules/module.py:1762: FutureWarning: `encoder_attention_mask` is deprecated and will be removed in version 4.55.0 for `BertSdpaSelfAttention.forward`.\n",
      "  return forward_call(*args, **kwargs)\n"
     ]
    }
   ],
   "source": [
    "# author + title\n",
    "p = model.encode(str(x), normalize_embeddings=True)"
   ]
  },
  {
   "cell_type": "code",
   "execution_count": 104,
   "id": "75372a0c",
   "metadata": {},
   "outputs": [
    {
     "data": {
      "text/plain": [
       "384"
      ]
     },
     "execution_count": 104,
     "metadata": {},
     "output_type": "execute_result"
    }
   ],
   "source": [
    "len(p)"
   ]
  },
  {
   "cell_type": "code",
   "execution_count": 103,
   "id": "9850f385",
   "metadata": {},
   "outputs": [
    {
     "name": "stdout",
     "output_type": "stream",
     "text": [
      "Often the favorite hideout for smugglers and pirates, Caves features examples of these secret places from around the world. Take an intriguing look at:• different kinds of caves• how they are created• various rock formations found inside• animal and plant life• how human beings have used caves for shelter and safety\n"
     ]
    }
   ],
   "source": [
    "#Long description\n",
    "print(book_df['long_description'][0])\n",
    "\n",
    "p = model.encode(str(book_df['long_description'][0]), normalize_embeddings=True)\n"
   ]
  },
  {
   "cell_type": "code",
   "execution_count": 106,
   "id": "1b477015",
   "metadata": {},
   "outputs": [],
   "source": [
    "# bestseller\n",
    "\n",
    "book_df['bestseller'] = np.where(book_df['bestseller']==True,1,0)"
   ]
  },
  {
   "cell_type": "code",
   "execution_count": null,
   "id": "f523f479",
   "metadata": {},
   "outputs": [
    {
     "data": {
      "text/plain": [
       "np.int64(5)"
      ]
     },
     "execution_count": 111,
     "metadata": {},
     "output_type": "execute_result"
    }
   ],
   "source": [
    "# take max as 50 as max pages\n",
    "book_df['readable_page_count'].min()"
   ]
  },
  {
   "cell_type": "code",
   "execution_count": 114,
   "id": "3c717769",
   "metadata": {},
   "outputs": [
    {
     "data": {
      "image/png": "[encoded data removed]",
      "text/plain": [
       "<Figure size 1000x600 with 1 Axes>"
      ]
     },
     "metadata": {},
     "output_type": "display_data"
    }
   ],
   "source": [
    "import seaborn as sns\n",
    "import matplotlib.pyplot as plt\n",
    "\n",
    "plt.figure(figsize=(10, 6))\n",
    "sns.histplot(book_df['readable_page_count'].dropna(), bins=100, kde=True)\n",
    "plt.title('Distribution of Number of Pages')\n",
    "plt.xlabel('Number of Pages')\n",
    "plt.ylabel('Number of Books')\n",
    "plt.show()\n"
   ]
  },
  {
   "cell_type": "code",
   "execution_count": 122,
   "id": "9080af6a",
   "metadata": {},
   "outputs": [
    {
     "data": {
      "text/plain": [
       "np.float64(43.1200000000008)"
      ]
     },
     "execution_count": 122,
     "metadata": {},
     "output_type": "execute_result"
    }
   ],
   "source": [
    "book_df['readable_page_count'].quantile(0.99)"
   ]
  },
  {
   "cell_type": "code",
   "execution_count": 124,
   "id": "79824d7d",
   "metadata": {},
   "outputs": [
    {
     "data": {
      "image/png": "[encoded data removed]",
      "text/plain": [
       "<Figure size 1000x600 with 1 Axes>"
      ]
     },
     "metadata": {},
     "output_type": "display_data"
    }
   ],
   "source": [
    "import numpy as np\n",
    "\n",
    "# book_df['log_num_pages'] = np.log(book_df['num_pages'])\n",
    "import seaborn as sns\n",
    "import matplotlib.pyplot as plt\n",
    "\n",
    "plt.figure(figsize=(10, 6))\n",
    "sns.histplot(np.log(book_df['readable_page_count']).dropna(), bins=100, kde=True)\n",
    "plt.title('Distribution of Number of Pages')\n",
    "plt.xlabel('Number of Pages')\n",
    "plt.ylabel('Number of Books')\n",
    "plt.show()\n"
   ]
  },
  {
   "cell_type": "code",
   "execution_count": null,
   "id": "b3e7e215",
   "metadata": {},
   "outputs": [
    {
     "data": {
      "image/png": "[encoded data removed]",
      "text/plain": [
       "<Figure size 1000x600 with 1 Axes>"
      ]
     },
     "metadata": {},
     "output_type": "display_data"
    }
   ],
   "source": [
    "import numpy as np\n",
    "\n",
    "# book_df['log_num_pages'] = np.log(book_df['num_pages'])\n",
    "import seaborn as sns\n",
    "import matplotlib.pyplot as plt\n",
    "\n",
    "plt.figure(figsize=(10, 6))\n",
    "sns.histplot(np.log10(book_df['readable_page_count']).dropna(), bins=100, kde=True)\n",
    "plt.title('Distribution of Number of Pages')\n",
    "plt.xlabel('Number of Pages')\n",
    "plt.ylabel('Number of Books')\n",
    "plt.show()\n"
   ]
  },
  {
   "cell_type": "code",
   "execution_count": 151,
   "id": "eb407967",
   "metadata": {},
   "outputs": [],
   "source": [
    "\n",
    "\n",
    "from sklearn.preprocessing import MinMaxScaler\n",
    "\n",
    "clip_max = np.log10(book_df['readable_page_count']).quantile(0.996)\n",
    "# book_df['log_num_pages_clipped'] = np.clip(book_df['log_num_pages'], a_min=None, a_max=clip_max)\n",
    "# Step 1: Filter out non-positive values\n",
    "new  = pd.DataFrame(np.clip(np.log10(book_df['readable_page_count']),a_min=None, a_max=clip_max))\n",
    "\n",
    "# Step 2: Log transform\n",
    "\n",
    "\n",
    "# Step 3: Min-Max scale to [0, 1]\n",
    "scaler = MinMaxScaler()\n",
    "\n",
    "xy = scaler.fit_transform(new)\n",
    "\n"
   ]
  },
  {
   "cell_type": "code",
   "execution_count": 152,
   "id": "75b2c7e6",
   "metadata": {},
   "outputs": [
    {
     "data": {
      "text/plain": [
       "np.float64(0.0)"
      ]
     },
     "execution_count": 152,
     "metadata": {},
     "output_type": "execute_result"
    }
   ],
   "source": [
    "xy.min()"
   ]
  },
  {
   "cell_type": "code",
   "execution_count": 153,
   "id": "69929fea",
   "metadata": {},
   "outputs": [
    {
     "data": {
      "image/png": "[encoded data removed]",
      "text/plain": [
       "<Figure size 1000x600 with 1 Axes>"
      ]
     },
     "metadata": {},
     "output_type": "display_data"
    }
   ],
   "source": [
    "import numpy as np\n",
    "\n",
    "# book_df['log_num_pages'] = np.log(book_df['num_pages'])\n",
    "import seaborn as sns\n",
    "import matplotlib.pyplot as plt\n",
    "\n",
    "plt.figure(figsize=(10, 6))\n",
    "sns.histplot(xy, bins=100, kde=True)\n",
    "plt.title('Distribution of Number of Pages')\n",
    "plt.xlabel('Number of Pages')\n",
    "plt.ylabel('Number of Books')\n",
    "plt.show()\n"
   ]
  },
  {
   "cell_type": "code",
   "execution_count": 155,
   "id": "f8a7ee70",
   "metadata": {},
   "outputs": [
    {
     "data": {
      "image/png": "[encoded data removed]",
      "text/plain": [
       "<Figure size 800x600 with 2 Axes>"
      ]
     },
     "metadata": {},
     "output_type": "display_data"
    }
   ],
   "source": [
    "import pandas as pd\n",
    "import seaborn as sns\n",
    "import matplotlib.pyplot as plt\n",
    "\n",
    "# Replace with your actual DataFrame\n",
    "# df = pd.read_csv(\"your_file.csv\")\n",
    "\n",
    "# List of numeric columns (or ones you want to include)\n",
    "# Replace with your column names\n",
    "\n",
    "# Compute and round correlation matrix\n",
    "columns_to_check = ['readable_page_count','completion_value']\n",
    "corr_matrix = book_df[columns_to_check].corr().round(2)\n",
    "\n",
    "# Plot heatmap\n",
    "plt.figure(figsize=(8, 6))\n",
    "sns.heatmap(corr_matrix, annot=True, cmap='coolwarm', fmt='.1f', linewidths=0.5)\n",
    "plt.title(\"Correlation Matrix (Rounded to 1 decimal)\")\n",
    "plt.show()"
   ]
  },
  {
   "cell_type": "code",
   "execution_count": null,
   "id": "78587a22",
   "metadata": {},
   "outputs": [
    {
     "data": {
      "text/plain": [
       "array([1, 1, 1, ..., 0, 0, 0], shape=(12189,))"
      ]
     },
     "execution_count": 158,
     "metadata": {},
     "output_type": "execute_result"
    }
   ],
   "source": [
    "# book_type\n",
    "book_type =  np.where(book_df.book_type == 'PDF',1,0)\n"
   ]
  },
  {
   "cell_type": "code",
   "execution_count": null,
   "id": "9c2f3646",
   "metadata": {},
   "outputs": [],
   "source": [
    "#book language\n",
    "book_df_encoded = pd.get_dummies(book_df, columns=['language_book'], prefix='lang')\n"
   ]
  },
  {
   "cell_type": "code",
   "execution_count": null,
   "id": "da761940",
   "metadata": {},
   "outputs": [
    {
     "data": {
      "text/html": [
       "<div>\n",
       "<style scoped>\n",
       "    .dataframe tbody tr th:only-of-type {\n",
       "        vertical-align: middle;\n",
       "    }\n",
       "\n",
       "    .dataframe tbody tr th {\n",
       "        vertical-align: top;\n",
       "    }\n",
       "\n",
       "    .dataframe thead th {\n",
       "        text-align: right;\n",
       "    }\n",
       "</style>\n",
       "<table border=\"1\" class=\"dataframe\">\n",
       "  <thead>\n",
       "    <tr style=\"text-align: right;\">\n",
       "      <th></th>\n",
       "      <th>id</th>\n",
       "      <th>book_isbn</th>\n",
       "      <th>book_title</th>\n",
       "      <th>authors</th>\n",
       "      <th>book_series</th>\n",
       "      <th>publication_date</th>\n",
       "      <th>rights</th>\n",
       "      <th>illustrators</th>\n",
       "      <th>interactive</th>\n",
       "      <th>search_keywords</th>\n",
       "      <th>...</th>\n",
       "      <th>read_pages</th>\n",
       "      <th>completion_value</th>\n",
       "      <th>completion_bucket</th>\n",
       "      <th>title_plus_author</th>\n",
       "      <th>lang_English</th>\n",
       "      <th>lang_French</th>\n",
       "      <th>lang_Haitian French Creole</th>\n",
       "      <th>lang_Mandarin</th>\n",
       "      <th>lang_Portuguese</th>\n",
       "      <th>lang_Spanish</th>\n",
       "    </tr>\n",
       "  </thead>\n",
       "  <tbody>\n",
       "    <tr>\n",
       "      <th>0</th>\n",
       "      <td>85.0</td>\n",
       "      <td>9781427167200</td>\n",
       "      <td>Caves</td>\n",
       "      <td>Neil,Morris</td>\n",
       "      <td>Wonders of Our World</td>\n",
       "      <td>1995-10-31</td>\n",
       "      <td>World</td>\n",
       "      <td>None</td>\n",
       "      <td>False</td>\n",
       "      <td>None</td>\n",
       "      <td>...</td>\n",
       "      <td>710.0</td>\n",
       "      <td>0.382543</td>\n",
       "      <td>30-40</td>\n",
       "      <td>caves by neil,morris</td>\n",
       "      <td>True</td>\n",
       "      <td>False</td>\n",
       "      <td>False</td>\n",
       "      <td>False</td>\n",
       "      <td>False</td>\n",
       "      <td>False</td>\n",
       "    </tr>\n",
       "    <tr>\n",
       "      <th>1</th>\n",
       "      <td>113.0</td>\n",
       "      <td>9781427119193</td>\n",
       "      <td>Craig Kielburger: Champion for Children's Righ...</td>\n",
       "      <td>Linda,Barghoorn</td>\n",
       "      <td>Remarkable Lives Revealed</td>\n",
       "      <td>2017-02-01</td>\n",
       "      <td>World</td>\n",
       "      <td>None</td>\n",
       "      <td>False</td>\n",
       "      <td>None</td>\n",
       "      <td>...</td>\n",
       "      <td>341.0</td>\n",
       "      <td>0.378889</td>\n",
       "      <td>30-40</td>\n",
       "      <td>craig kielburger: champion for children's righ...</td>\n",
       "      <td>True</td>\n",
       "      <td>False</td>\n",
       "      <td>False</td>\n",
       "      <td>False</td>\n",
       "      <td>False</td>\n",
       "      <td>False</td>\n",
       "    </tr>\n",
       "    <tr>\n",
       "      <th>2</th>\n",
       "      <td>127.0</td>\n",
       "      <td>9781427120328</td>\n",
       "      <td>Dream Jobs in Human Services</td>\n",
       "      <td>Helen,Mason</td>\n",
       "      <td>Cutting-Edge Careers in Technical Education</td>\n",
       "      <td>2018-02-28</td>\n",
       "      <td>World</td>\n",
       "      <td>None</td>\n",
       "      <td>False</td>\n",
       "      <td>Careers and occupations,Includes index,Include...</td>\n",
       "      <td>...</td>\n",
       "      <td>1795.0</td>\n",
       "      <td>0.797778</td>\n",
       "      <td>70-80</td>\n",
       "      <td>dream jobs in human services by helen,mason</td>\n",
       "      <td>True</td>\n",
       "      <td>False</td>\n",
       "      <td>False</td>\n",
       "      <td>False</td>\n",
       "      <td>False</td>\n",
       "      <td>False</td>\n",
       "    </tr>\n",
       "    <tr>\n",
       "      <th>3</th>\n",
       "      <td>156.0</td>\n",
       "      <td>9781427163646</td>\n",
       "      <td>Endangered Penguins</td>\n",
       "      <td>Bobbie,Kalman</td>\n",
       "      <td>Earth's Endangered Animals</td>\n",
       "      <td>2007-03-15</td>\n",
       "      <td>World</td>\n",
       "      <td>None</td>\n",
       "      <td>False</td>\n",
       "      <td>None</td>\n",
       "      <td>...</td>\n",
       "      <td>11096.0</td>\n",
       "      <td>0.557476</td>\n",
       "      <td>50-60</td>\n",
       "      <td>endangered penguins by bobbie,kalman</td>\n",
       "      <td>True</td>\n",
       "      <td>False</td>\n",
       "      <td>False</td>\n",
       "      <td>False</td>\n",
       "      <td>False</td>\n",
       "      <td>False</td>\n",
       "    </tr>\n",
       "    <tr>\n",
       "      <th>4</th>\n",
       "      <td>244.0</td>\n",
       "      <td>9781427196415</td>\n",
       "      <td>Government in the Ancient World</td>\n",
       "      <td>Hazel,Richardson</td>\n",
       "      <td>Life in the Ancient World</td>\n",
       "      <td>2011-08-15</td>\n",
       "      <td>World</td>\n",
       "      <td>None</td>\n",
       "      <td>False</td>\n",
       "      <td>None</td>\n",
       "      <td>...</td>\n",
       "      <td>1189.0</td>\n",
       "      <td>0.555867</td>\n",
       "      <td>50-60</td>\n",
       "      <td>government in the ancient world by hazel,richa...</td>\n",
       "      <td>True</td>\n",
       "      <td>False</td>\n",
       "      <td>False</td>\n",
       "      <td>False</td>\n",
       "      <td>False</td>\n",
       "      <td>False</td>\n",
       "    </tr>\n",
       "  </tbody>\n",
       "</table>\n",
       "<p>5 rows × 57 columns</p>\n",
       "</div>"
      ],
      "text/plain": [
       "      id      book_isbn                                         book_title  \\\n",
       "0   85.0  9781427167200                                              Caves   \n",
       "1  113.0  9781427119193  Craig Kielburger: Champion for Children's Righ...   \n",
       "2  127.0  9781427120328                       Dream Jobs in Human Services   \n",
       "3  156.0  9781427163646                                Endangered Penguins   \n",
       "4  244.0  9781427196415                    Government in the Ancient World   \n",
       "\n",
       "            authors                                  book_series  \\\n",
       "0       Neil,Morris                         Wonders of Our World   \n",
       "1   Linda,Barghoorn                    Remarkable Lives Revealed   \n",
       "2       Helen,Mason  Cutting-Edge Careers in Technical Education   \n",
       "3     Bobbie,Kalman                   Earth's Endangered Animals   \n",
       "4  Hazel,Richardson                    Life in the Ancient World   \n",
       "\n",
       "  publication_date rights illustrators interactive  \\\n",
       "0       1995-10-31  World         None       False   \n",
       "1       2017-02-01  World         None       False   \n",
       "2       2018-02-28  World         None       False   \n",
       "3       2007-03-15  World         None       False   \n",
       "4       2011-08-15  World         None       False   \n",
       "\n",
       "                                     search_keywords  ... read_pages  \\\n",
       "0                                               None  ...      710.0   \n",
       "1                                               None  ...      341.0   \n",
       "2  Careers and occupations,Includes index,Include...  ...     1795.0   \n",
       "3                                               None  ...    11096.0   \n",
       "4                                               None  ...     1189.0   \n",
       "\n",
       "  completion_value completion_bucket  \\\n",
       "0         0.382543             30-40   \n",
       "1         0.378889             30-40   \n",
       "2         0.797778             70-80   \n",
       "3         0.557476             50-60   \n",
       "4         0.555867             50-60   \n",
       "\n",
       "                                   title_plus_author lang_English lang_French  \\\n",
       "0                               caves by neil,morris         True       False   \n",
       "1  craig kielburger: champion for children's righ...         True       False   \n",
       "2        dream jobs in human services by helen,mason         True       False   \n",
       "3               endangered penguins by bobbie,kalman         True       False   \n",
       "4  government in the ancient world by hazel,richa...         True       False   \n",
       "\n",
       "  lang_Haitian French Creole lang_Mandarin  lang_Portuguese lang_Spanish  \n",
       "0                      False         False            False        False  \n",
       "1                      False         False            False        False  \n",
       "2                      False         False            False        False  \n",
       "3                      False         False            False        False  \n",
       "4                      False         False            False        False  \n",
       "\n",
       "[5 rows x 57 columns]"
      ]
     },
     "execution_count": 161,
     "metadata": {},
     "output_type": "execute_result"
    }
   ],
   "source": []
  },
  {
   "cell_type": "code",
   "execution_count": null,
   "id": "7a2af457",
   "metadata": {},
   "outputs": [
    {
     "data": {
      "text/html": [
       "<div>\n",
       "<style scoped>\n",
       "    .dataframe tbody tr th:only-of-type {\n",
       "        vertical-align: middle;\n",
       "    }\n",
       "\n",
       "    .dataframe tbody tr th {\n",
       "        vertical-align: top;\n",
       "    }\n",
       "\n",
       "    .dataframe thead th {\n",
       "        text-align: right;\n",
       "    }\n",
       "</style>\n",
       "<table border=\"1\" class=\"dataframe\">\n",
       "  <thead>\n",
       "    <tr style=\"text-align: right;\">\n",
       "      <th></th>\n",
       "      <th>id</th>\n",
       "      <th>book_isbn</th>\n",
       "      <th>book_title</th>\n",
       "      <th>authors</th>\n",
       "      <th>book_series</th>\n",
       "      <th>publication_date</th>\n",
       "      <th>rights</th>\n",
       "      <th>illustrators</th>\n",
       "      <th>interactive</th>\n",
       "      <th>search_keywords</th>\n",
       "      <th>...</th>\n",
       "      <th>completion_rate</th>\n",
       "      <th>time_spent</th>\n",
       "      <th>total_pages</th>\n",
       "      <th>read_pages</th>\n",
       "      <th>completion_value</th>\n",
       "      <th>completion_bucket</th>\n",
       "      <th>title_plus_author</th>\n",
       "      <th>fn_Fiction</th>\n",
       "      <th>fn_Non-Fiction</th>\n",
       "      <th>fn_unknown</th>\n",
       "    </tr>\n",
       "  </thead>\n",
       "  <tbody>\n",
       "    <tr>\n",
       "      <th>0</th>\n",
       "      <td>85.0</td>\n",
       "      <td>9781427167200</td>\n",
       "      <td>Caves</td>\n",
       "      <td>Neil,Morris</td>\n",
       "      <td>Wonders of Our World</td>\n",
       "      <td>1995-10-31</td>\n",
       "      <td>World</td>\n",
       "      <td>None</td>\n",
       "      <td>False</td>\n",
       "      <td>None</td>\n",
       "      <td>...</td>\n",
       "      <td>38.24</td>\n",
       "      <td>12692.0</td>\n",
       "      <td>1856.0</td>\n",
       "      <td>710.0</td>\n",
       "      <td>0.382543</td>\n",
       "      <td>30-40</td>\n",
       "      <td>caves by neil,morris</td>\n",
       "      <td>False</td>\n",
       "      <td>True</td>\n",
       "      <td>False</td>\n",
       "    </tr>\n",
       "    <tr>\n",
       "      <th>1</th>\n",
       "      <td>113.0</td>\n",
       "      <td>9781427119193</td>\n",
       "      <td>Craig Kielburger: Champion for Children's Righ...</td>\n",
       "      <td>Linda,Barghoorn</td>\n",
       "      <td>Remarkable Lives Revealed</td>\n",
       "      <td>2017-02-01</td>\n",
       "      <td>World</td>\n",
       "      <td>None</td>\n",
       "      <td>False</td>\n",
       "      <td>None</td>\n",
       "      <td>...</td>\n",
       "      <td>37.50</td>\n",
       "      <td>5769.0</td>\n",
       "      <td>900.0</td>\n",
       "      <td>341.0</td>\n",
       "      <td>0.378889</td>\n",
       "      <td>30-40</td>\n",
       "      <td>craig kielburger: champion for children's righ...</td>\n",
       "      <td>False</td>\n",
       "      <td>True</td>\n",
       "      <td>False</td>\n",
       "    </tr>\n",
       "    <tr>\n",
       "      <th>2</th>\n",
       "      <td>127.0</td>\n",
       "      <td>9781427120328</td>\n",
       "      <td>Dream Jobs in Human Services</td>\n",
       "      <td>Helen,Mason</td>\n",
       "      <td>Cutting-Edge Careers in Technical Education</td>\n",
       "      <td>2018-02-28</td>\n",
       "      <td>World</td>\n",
       "      <td>None</td>\n",
       "      <td>False</td>\n",
       "      <td>Careers and occupations,Includes index,Include...</td>\n",
       "      <td>...</td>\n",
       "      <td>76.47</td>\n",
       "      <td>3740.0</td>\n",
       "      <td>2250.0</td>\n",
       "      <td>1795.0</td>\n",
       "      <td>0.797778</td>\n",
       "      <td>70-80</td>\n",
       "      <td>dream jobs in human services by helen,mason</td>\n",
       "      <td>False</td>\n",
       "      <td>True</td>\n",
       "      <td>False</td>\n",
       "    </tr>\n",
       "    <tr>\n",
       "      <th>3</th>\n",
       "      <td>156.0</td>\n",
       "      <td>9781427163646</td>\n",
       "      <td>Endangered Penguins</td>\n",
       "      <td>Bobbie,Kalman</td>\n",
       "      <td>Earth's Endangered Animals</td>\n",
       "      <td>2007-03-15</td>\n",
       "      <td>World</td>\n",
       "      <td>None</td>\n",
       "      <td>False</td>\n",
       "      <td>None</td>\n",
       "      <td>...</td>\n",
       "      <td>52.79</td>\n",
       "      <td>203405.0</td>\n",
       "      <td>19904.0</td>\n",
       "      <td>11096.0</td>\n",
       "      <td>0.557476</td>\n",
       "      <td>50-60</td>\n",
       "      <td>endangered penguins by bobbie,kalman</td>\n",
       "      <td>False</td>\n",
       "      <td>True</td>\n",
       "      <td>False</td>\n",
       "    </tr>\n",
       "    <tr>\n",
       "      <th>4</th>\n",
       "      <td>244.0</td>\n",
       "      <td>9781427196415</td>\n",
       "      <td>Government in the Ancient World</td>\n",
       "      <td>Hazel,Richardson</td>\n",
       "      <td>Life in the Ancient World</td>\n",
       "      <td>2011-08-15</td>\n",
       "      <td>World</td>\n",
       "      <td>None</td>\n",
       "      <td>False</td>\n",
       "      <td>None</td>\n",
       "      <td>...</td>\n",
       "      <td>55.32</td>\n",
       "      <td>4355.0</td>\n",
       "      <td>2139.0</td>\n",
       "      <td>1189.0</td>\n",
       "      <td>0.555867</td>\n",
       "      <td>50-60</td>\n",
       "      <td>government in the ancient world by hazel,richa...</td>\n",
       "      <td>False</td>\n",
       "      <td>True</td>\n",
       "      <td>False</td>\n",
       "    </tr>\n",
       "  </tbody>\n",
       "</table>\n",
       "<p>5 rows × 54 columns</p>\n",
       "</div>"
      ],
      "text/plain": [
       "      id      book_isbn                                         book_title  \\\n",
       "0   85.0  9781427167200                                              Caves   \n",
       "1  113.0  9781427119193  Craig Kielburger: Champion for Children's Righ...   \n",
       "2  127.0  9781427120328                       Dream Jobs in Human Services   \n",
       "3  156.0  9781427163646                                Endangered Penguins   \n",
       "4  244.0  9781427196415                    Government in the Ancient World   \n",
       "\n",
       "            authors                                  book_series  \\\n",
       "0       Neil,Morris                         Wonders of Our World   \n",
       "1   Linda,Barghoorn                    Remarkable Lives Revealed   \n",
       "2       Helen,Mason  Cutting-Edge Careers in Technical Education   \n",
       "3     Bobbie,Kalman                   Earth's Endangered Animals   \n",
       "4  Hazel,Richardson                    Life in the Ancient World   \n",
       "\n",
       "  publication_date rights illustrators interactive  \\\n",
       "0       1995-10-31  World         None       False   \n",
       "1       2017-02-01  World         None       False   \n",
       "2       2018-02-28  World         None       False   \n",
       "3       2007-03-15  World         None       False   \n",
       "4       2011-08-15  World         None       False   \n",
       "\n",
       "                                     search_keywords  ... completion_rate  \\\n",
       "0                                               None  ...           38.24   \n",
       "1                                               None  ...           37.50   \n",
       "2  Careers and occupations,Includes index,Include...  ...           76.47   \n",
       "3                                               None  ...           52.79   \n",
       "4                                               None  ...           55.32   \n",
       "\n",
       "  time_spent total_pages  read_pages completion_value completion_bucket  \\\n",
       "0    12692.0      1856.0       710.0         0.382543             30-40   \n",
       "1     5769.0       900.0       341.0         0.378889             30-40   \n",
       "2     3740.0      2250.0      1795.0         0.797778             70-80   \n",
       "3   203405.0     19904.0     11096.0         0.557476             50-60   \n",
       "4     4355.0      2139.0      1189.0         0.555867             50-60   \n",
       "\n",
       "                                   title_plus_author fn_Fiction  \\\n",
       "0                               caves by neil,morris      False   \n",
       "1  craig kielburger: champion for children's righ...      False   \n",
       "2        dream jobs in human services by helen,mason      False   \n",
       "3               endangered penguins by bobbie,kalman      False   \n",
       "4  government in the ancient world by hazel,richa...      False   \n",
       "\n",
       "   fn_Non-Fiction fn_unknown  \n",
       "0            True      False  \n",
       "1            True      False  \n",
       "2            True      False  \n",
       "3            True      False  \n",
       "4            True      False  \n",
       "\n",
       "[5 rows x 54 columns]"
      ]
     },
     "execution_count": 162,
     "metadata": {},
     "output_type": "execute_result"
    }
   ],
   "source": [
    "# fiction and non fiction\n",
    "book_df['fiction_nonfiction'] = book_df['fiction_nonfiction'].fillna('unknown')\n",
    "yo = pd.get_dummies(book_df, columns=['fiction_nonfiction'], prefix='fn')\n",
    "yo.head()"
   ]
  },
  {
   "cell_type": "code",
   "execution_count": 163,
   "id": "f401fa32",
   "metadata": {},
   "outputs": [
    {
     "data": {
      "text/plain": [
       "array(['3', 'k', '1', 'pk', '2', '4', '5'], dtype=object)"
      ]
     },
     "execution_count": 163,
     "metadata": {},
     "output_type": "execute_result"
    }
   ],
   "source": [
    "book_df['min_grade'].unique()"
   ]
  },
  {
   "cell_type": "code",
   "execution_count": 164,
   "id": "51e64cd1",
   "metadata": {},
   "outputs": [
    {
     "data": {
      "text/plain": [
       "array(['5', '2', '3', '1', '4', '6', 'k', '7', '8', 'pk'], dtype=object)"
      ]
     },
     "execution_count": 164,
     "metadata": {},
     "output_type": "execute_result"
    }
   ],
   "source": [
    "book_df['max_grade'].unique()"
   ]
  },
  {
   "cell_type": "code",
   "execution_count": null,
   "id": "3aab6a96",
   "metadata": {},
   "outputs": [],
   "source": [
    "\n",
    "# Next 5 blocks for min max grade\n",
    "grade_to_idx = {g: i for i, g in enumerate(grade_list)}\n",
    "# Example: {'pk': 0, 'k': 1, '1': 2, ..., '8': 10}\n"
   ]
  },
  {
   "cell_type": "code",
   "execution_count": null,
   "id": "92af92b3",
   "metadata": {},
   "outputs": [],
   "source": [
    "import numpy as np\n",
    "grade_list = ['pk', 'k', '1', '2', '3', '4', '5', '6', '7', '8']\n",
    "\n"
   ]
  },
  {
   "cell_type": "code",
   "execution_count": 168,
   "id": "c38f9d57",
   "metadata": {},
   "outputs": [
    {
     "data": {
      "text/plain": [
       "array([0., 1., 1., 1., 0., 0., 0., 0., 0., 0.])"
      ]
     },
     "execution_count": 168,
     "metadata": {},
     "output_type": "execute_result"
    }
   ],
   "source": [
    "\n",
    "book_vector"
   ]
  },
  {
   "cell_type": "code",
   "execution_count": 169,
   "id": "caae3e71",
   "metadata": {},
   "outputs": [],
   "source": [
    "def get_grade_range(min_g, max_g):\n",
    "    start_idx = grade_to_idx[min_g]\n",
    "    end_idx = grade_to_idx[max_g]\n",
    "    return grade_list[start_idx:end_idx + 1]\n",
    "\n",
    "book_grades = get_grade_range('k', '2')  # → ['k', '1', '2']\n"
   ]
  },
  {
   "cell_type": "code",
   "execution_count": 177,
   "id": "53dd2bc2",
   "metadata": {},
   "outputs": [],
   "source": [
    "import torch\n",
    "import torch.nn as nn\n",
    "\n",
    "# Grade embedding setup\n",
    "num_grades = len(grade_list)\n",
    "embedding_dim = 4\n",
    "grade_embedding = nn.Embedding(num_grades, embedding_dim)\n",
    "\n",
    "# Book example\n",
    "book_grades = ['k', '1', '2']\n",
    "grade_indices = torch.tensor([grade_to_idx[g] for g in book_grades])  # tensor([1, 2, 3])\n",
    "\n",
    "# Get embeddings\n",
    "embedded = grade_embedding(grade_indices)  # shape: [3, 8]\n",
    "book_embedding = embedded.mean(dim=0)      # Combine by averaging\n"
   ]
  },
  {
   "cell_type": "code",
   "execution_count": 178,
   "id": "11905ee8",
   "metadata": {},
   "outputs": [
    {
     "data": {
      "text/plain": [
       "tensor([ 0.4761,  0.9699, -0.1857, -0.0233], grad_fn=<MeanBackward1>)"
      ]
     },
     "execution_count": 178,
     "metadata": {},
     "output_type": "execute_result"
    }
   ],
   "source": [
    "book_embedding"
   ]
  },
  {
   "cell_type": "code",
   "execution_count": 176,
   "id": "e2f2e8f5",
   "metadata": {},
   "outputs": [
    {
     "data": {
      "text/plain": [
       "tensor([ 0.4110, -0.5839, -0.2270, -0.7280], grad_fn=<MeanBackward1>)"
      ]
     },
     "execution_count": 176,
     "metadata": {},
     "output_type": "execute_result"
    }
   ],
   "source": [
    "# for min max age\n",
    "age_list = list(range(0, 12))  # Ages 0 to 18\n",
    "age_to_idx = {age: i for i, age in enumerate(age_list)}\n",
    "def get_age_range(min_age, max_age):\n",
    "    return list(range(min_age, max_age + 1))  # Inclusive\n",
    "\n",
    "# Example book\n",
    "min_age = 7\n",
    "max_age = 10\n",
    "age_range = get_age_range(min_age, max_age)  # [7, 8, 9, 10]\n",
    "\n",
    "age_indices = [age_to_idx[age] for age in age_range]  # [7, 8, 9, 10]\n",
    "import torch\n",
    "import torch.nn as nn\n",
    "\n",
    "# Set up embedding layer\n",
    "embedding_dim = 4\n",
    "num_ages = len(age_list)\n",
    "age_embedding = nn.Embedding(num_ages, embedding_dim)\n",
    "\n",
    "# Convert to tensor\n",
    "age_tensor = torch.tensor(age_indices)  # e.g., tensor([7, 8, 9, 10])\n",
    "\n",
    "# Get embeddings\n",
    "age_embeds = age_embedding(age_tensor)  # Shape: [4, 8]\n",
    "book_age_embedding = age_embeds.mean(dim=0)  # Final shape: [8]\n",
    "book_age_embedding \n"
   ]
  },
  {
   "cell_type": "code",
   "execution_count": null,
   "id": "2d55c8d2",
   "metadata": {},
   "outputs": [
    {
     "data": {
      "text/plain": [
       "0                                        The Natural World\n",
       "1                     Biography & Memoir, Family & Friends\n",
       "2                                  Occupations, Technology\n",
       "3                                 The Natural World, Birds\n",
       "4                                  History, Social Studies\n",
       "                               ...                        \n",
       "12186    Biography & Memoir, Places of Interest, Fun Sc...\n",
       "12187       Farm Life, Our Friends in Nature, Wild Animals\n",
       "12188    Biography & Memoir, Places of Interest, Histor...\n",
       "12189            Legends, Myths, Fables, The Natural World\n",
       "12190    Funny Stories, Our Friends in Nature, Family &...\n",
       "Name: theme_name, Length: 12189, dtype: object"
      ]
     },
     "execution_count": 180,
     "metadata": {},
     "output_type": "execute_result"
    }
   ],
   "source": []
  },
  {
   "cell_type": "code",
   "execution_count": null,
   "id": "487ba91e",
   "metadata": {},
   "outputs": [
    {
     "name": "stdout",
     "output_type": "stream",
     "text": [
      "torch.Size([4, 8])\n"
     ]
    }
   ],
   "source": [
    "# Theme  embedding and same for category, reading skill\n",
    "import pandas as pd\n",
    "import torch\n",
    "import torch.nn as nn\n",
    "\n",
    "# Sample DataFrame\n",
    "book_df = pd.DataFrame({\n",
    "    'book_id': [1, 2, 3, 4],\n",
    "    'theme_name': ['adventure, friendship', 'magic, fantasy', None, 'history']\n",
    "})\n",
    "\n",
    "# Step 1: Preprocess themes (split on commas)\n",
    "book_df['themes'] = book_df['theme_name'].fillna('').apply(\n",
    "    lambda x: [t.strip().lower() for t in x.split(',') if t.strip()]\n",
    ")\n",
    "\n",
    "# Step 2: Build theme vocabulary\n",
    "from itertools import chain\n",
    "all_themes = sorted(set(chain.from_iterable(book_df['themes'])))\n",
    "theme_to_idx = {theme: idx for idx, theme in enumerate(all_themes)}\n",
    "\n",
    "# Step 3: Map themes to indices\n",
    "book_df['theme_ids'] = book_df['themes'].apply(\n",
    "    lambda theme_list: [theme_to_idx[t] for t in theme_list if t in theme_to_idx]\n",
    ")\n",
    "\n",
    "# Step 4: Embedding module\n",
    "class ThemeEmbedder(nn.Module):\n",
    "    def __init__(self, num_themes, embedding_dim):\n",
    "        super().__init__()\n",
    "        self.embedding = nn.Embedding(num_themes, embedding_dim)\n",
    "\n",
    "    def forward(self, theme_ids_batch):\n",
    "        embeddings = []\n",
    "        for theme_ids in theme_ids_batch:\n",
    "            if not theme_ids:\n",
    "                # Handle books with no themes using a zero vector\n",
    "                embeddings.append(torch.zeros(self.embedding.embedding_dim))\n",
    "            else:\n",
    "                ids_tensor = torch.tensor(theme_ids, dtype=torch.long)\n",
    "                emb = self.embedding(ids_tensor)\n",
    "                embeddings.append(emb.mean(dim=0))  # Mean pooling\n",
    "        return torch.stack(embeddings)  # Shape: [batch_size, embedding_dim]\n",
    "\n",
    "# Step 5: Initialize and use\n",
    "embedding_dim = 8\n",
    "embedder = ThemeEmbedder(num_themes=len(theme_to_idx), embedding_dim=embedding_dim)\n",
    "\n",
    "# Get embeddings\n",
    "theme_ids_batch = book_df['theme_ids'].tolist()\n",
    "book_theme_embeddings = embedder(theme_ids_batch)\n",
    "\n",
    "print(book_theme_embeddings.shape)  # Output: torch.Size([4, 16])\n"
   ]
  },
  {
   "cell_type": "code",
   "execution_count": 207,
   "id": "50223588",
   "metadata": {},
   "outputs": [
    {
     "data": {
      "text/plain": [
       "tensor([[-0.3691, -0.3680,  0.6388, -1.1710, -0.2870, -0.0989, -1.6070, -0.0302],\n",
       "        [ 0.4780, -0.8614,  0.9000,  0.3814, -1.2994, -0.8681, -0.1868, -0.9540],\n",
       "        [ 0.0000,  0.0000,  0.0000,  0.0000,  0.0000,  0.0000,  0.0000,  0.0000],\n",
       "        [ 0.2491,  0.7662,  0.3938, -0.7410,  0.0849, -0.3879, -0.8728, -0.6273]],\n",
       "       grad_fn=<StackBackward0>)"
      ]
     },
     "execution_count": 207,
     "metadata": {},
     "output_type": "execute_result"
    }
   ],
   "source": [
    "book_theme_embeddings"
   ]
  },
  {
   "cell_type": "code",
   "execution_count": 217,
   "id": "39edec54",
   "metadata": {},
   "outputs": [],
   "source": [
    "# embedding = nn.Embedding(20, embedding_dim)\n",
    "embeddings = []\n",
    "for theme_ids in [[4,1,3]]:\n",
    "    if not theme_ids:\n",
    "        # Handle books with no themes using a zero vector\n",
    "        embeddings.append(torch.zeros(embedding.embedding_dim))\n",
    "    else:\n",
    "        ids_tensor = torch.tensor(theme_ids, dtype=torch.long)\n",
    "        emb = embedding(ids_tensor)\n",
    "        embeddings.append(emb.mean(dim=0))  # Mean"
   ]
  },
  {
   "cell_type": "code",
   "execution_count": 216,
   "id": "8281032b",
   "metadata": {},
   "outputs": [
    {
     "data": {
      "text/plain": [
       "tensor([[ 1.8838,  0.7656, -0.1968, -2.8131,  1.2633,  1.1696,  0.3707, -0.7582],\n",
       "        [-2.2699, -0.6003,  0.4636,  0.8422,  0.6451,  0.8917, -0.1504,  0.2700]],\n",
       "       grad_fn=<EmbeddingBackward0>)"
      ]
     },
     "execution_count": 216,
     "metadata": {},
     "output_type": "execute_result"
    }
   ],
   "source": [
    "emb"
   ]
  },
  {
   "cell_type": "code",
   "execution_count": 219,
   "id": "b8da05dc",
   "metadata": {},
   "outputs": [
    {
     "data": {
      "text/plain": [
       "tensor([[ 1.8838,  0.7656, -0.1968, -2.8131,  1.2633,  1.1696,  0.3707, -0.7582],\n",
       "        [-2.2699, -0.6003,  0.4636,  0.8422,  0.6451,  0.8917, -0.1504,  0.2700],\n",
       "        [-0.3209, -0.8226, -0.1930,  1.5369,  0.4823, -0.9159, -1.6668,  1.2814]],\n",
       "       grad_fn=<EmbeddingBackward0>)"
      ]
     },
     "execution_count": 219,
     "metadata": {},
     "output_type": "execute_result"
    }
   ],
   "source": [
    "emb"
   ]
  },
  {
   "cell_type": "code",
   "execution_count": 215,
   "id": "2bc66da2",
   "metadata": {},
   "outputs": [
    {
     "data": {
      "text/plain": [
       "[[0, 2], [4, 1], [], [3]]"
      ]
     },
     "execution_count": 215,
     "metadata": {},
     "output_type": "execute_result"
    }
   ],
   "source": [
    "theme_ids_batch"
   ]
  },
  {
   "cell_type": "code",
   "execution_count": null,
   "id": "4b70bfc0",
   "metadata": {},
   "outputs": [],
   "source": []
  }
 ],
 "metadata": {
  "kernelspec": {
   "display_name": "tta",
   "language": "python",
   "name": "python3"
  },
  "language_info": {
   "codemirror_mode": {
    "name": "ipython",
    "version": 3
   },
   "file_extension": ".py",
   "mimetype": "text/x-python",
   "name": "python",
   "nbconvert_exporter": "python",
   "pygments_lexer": "ipython3",
   "version": "3.12.11"
  }
 },
 "nbformat": 4,
 "nbformat_minor": 5
}
